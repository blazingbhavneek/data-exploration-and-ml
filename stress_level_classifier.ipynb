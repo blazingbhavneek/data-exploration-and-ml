{
  "cells": [
    {
      "cell_type": "markdown",
      "metadata": {
        "id": "view-in-github",
        "colab_type": "text"
      },
      "source": [
        "<a href=\"https://colab.research.google.com/github/blazingbhavneek/scikit-learn_projects/blob/master/stress_level_classifier.ipynb\" target=\"_parent\"><img src=\"https://colab.research.google.com/assets/colab-badge.svg\" alt=\"Open In Colab\"/></a>"
      ]
    },
    {
      "cell_type": "markdown",
      "id": "dc989a33",
      "metadata": {
        "id": "dc989a33"
      },
      "source": [
        "# Human Stress Detection in and through Sleep\n",
        "## By [Bhavneek Singh](https://bhavneek.netlify.app/), IIT Delhi\n",
        "\n",
        "Smart-Yoga Pillow (SaYoPillow) was invented to help in understanding the relationship between stress and sleep and to fully materialize the idea of “Smart-Sleeping” by proposing an edge device. An edge processor with a model analyzing the physiological changes that occur during sleep along with the sleeping habits is proposed.\n",
        "\n",
        "In SayoPillow.csv, we will see the relationship between the parameters- snoring range of the user, respiration rate, body temperature, limb movement rate, blood oxygen levels, eye movement, number of hours of sleep, heart rate and Stress Levels (0- low/normal, 1 – medium low, 2- medium, 3-medium high, 4 -high)\n",
        "\n",
        "sr-snoring rate\n",
        "\n",
        "rr-respiration rate\n",
        "\n",
        "t-body temperature \n",
        "\n",
        "lm-limb movement\n",
        "\n",
        "bo-blood oxygen\n",
        "\n",
        "rem-eye movement\n",
        "\n",
        "sr-sleeping hours\n",
        "\n",
        "hr-heart rate\n",
        "\n",
        "sl-stress level"
      ]
    },
    {
      "cell_type": "code",
      "execution_count": 85,
      "id": "35085e7b",
      "metadata": {
        "id": "35085e7b"
      },
      "outputs": [],
      "source": [
        "import numpy as np\n",
        "import pandas as pd\n",
        "import matplotlib.pyplot as plt\n",
        "import seaborn as sns"
      ]
    },
    {
      "cell_type": "code",
      "execution_count": 86,
      "id": "409afde8",
      "metadata": {
        "id": "409afde8"
      },
      "outputs": [],
      "source": [
        "df = pd.read_csv(\"SaYoPillow.csv\")"
      ]
    },
    {
      "cell_type": "markdown",
      "id": "870cad28",
      "metadata": {
        "id": "870cad28"
      },
      "source": [
        "### Getting general idea of the data"
      ]
    },
    {
      "cell_type": "code",
      "execution_count": 87,
      "id": "2f8a9ecf",
      "metadata": {
        "colab": {
          "base_uri": "https://localhost:8080/"
        },
        "id": "2f8a9ecf",
        "outputId": "16c5a11a-6de4-4cbc-ffd0-cebf1403ceea"
      },
      "outputs": [
        {
          "output_type": "stream",
          "name": "stdout",
          "text": [
            "<class 'pandas.core.frame.DataFrame'>\n",
            "RangeIndex: 630 entries, 0 to 629\n",
            "Data columns (total 9 columns):\n",
            " #   Column  Non-Null Count  Dtype  \n",
            "---  ------  --------------  -----  \n",
            " 0   sr      630 non-null    float64\n",
            " 1   rr      630 non-null    float64\n",
            " 2   t       630 non-null    float64\n",
            " 3   lm      630 non-null    float64\n",
            " 4   bo      630 non-null    float64\n",
            " 5   rem     630 non-null    float64\n",
            " 6   sr.1    630 non-null    float64\n",
            " 7   hr      630 non-null    float64\n",
            " 8   sl      630 non-null    int64  \n",
            "dtypes: float64(8), int64(1)\n",
            "memory usage: 44.4 KB\n"
          ]
        }
      ],
      "source": [
        "df.info()"
      ]
    },
    {
      "cell_type": "markdown",
      "id": "5f095a58",
      "metadata": {
        "id": "5f095a58"
      },
      "source": [
        "No NULL values, Great!"
      ]
    },
    {
      "cell_type": "code",
      "execution_count": 88,
      "id": "41455275",
      "metadata": {
        "colab": {
          "base_uri": "https://localhost:8080/",
          "height": 332
        },
        "id": "41455275",
        "outputId": "86ffb573-8935-4ee1-b86f-ea5d8c13a500"
      },
      "outputs": [
        {
          "output_type": "execute_result",
          "data": {
            "text/plain": [
              "      count  mean        std   min    25%   50%    75%    max\n",
              "sr    630.0  71.6  19.372833  45.0  52.50  70.0  91.25  100.0\n",
              "rr    630.0  21.8   3.966111  16.0  18.50  21.0  25.00   30.0\n",
              "t     630.0  92.8   3.529690  85.0  90.50  93.0  95.50   99.0\n",
              "lm    630.0  11.7   4.299629   4.0   8.50  11.0  15.75   19.0\n",
              "bo    630.0  90.9   3.902483  82.0  88.50  91.0  94.25   97.0\n",
              "rem   630.0  88.5  11.893747  60.0  81.25  90.0  98.75  105.0\n",
              "sr.1  630.0   3.7   3.054572   0.0   0.50   3.5   6.50    9.0\n",
              "hr    630.0  64.5   9.915277  50.0  56.25  62.5  72.50   85.0\n",
              "sl    630.0   2.0   1.415337   0.0   1.00   2.0   3.00    4.0"
            ],
            "text/html": [
              "\n",
              "  <div id=\"df-32521cd7-6488-46bb-b6d9-50dcbf123bfc\">\n",
              "    <div class=\"colab-df-container\">\n",
              "      <div>\n",
              "<style scoped>\n",
              "    .dataframe tbody tr th:only-of-type {\n",
              "        vertical-align: middle;\n",
              "    }\n",
              "\n",
              "    .dataframe tbody tr th {\n",
              "        vertical-align: top;\n",
              "    }\n",
              "\n",
              "    .dataframe thead th {\n",
              "        text-align: right;\n",
              "    }\n",
              "</style>\n",
              "<table border=\"1\" class=\"dataframe\">\n",
              "  <thead>\n",
              "    <tr style=\"text-align: right;\">\n",
              "      <th></th>\n",
              "      <th>count</th>\n",
              "      <th>mean</th>\n",
              "      <th>std</th>\n",
              "      <th>min</th>\n",
              "      <th>25%</th>\n",
              "      <th>50%</th>\n",
              "      <th>75%</th>\n",
              "      <th>max</th>\n",
              "    </tr>\n",
              "  </thead>\n",
              "  <tbody>\n",
              "    <tr>\n",
              "      <th>sr</th>\n",
              "      <td>630.0</td>\n",
              "      <td>71.6</td>\n",
              "      <td>19.372833</td>\n",
              "      <td>45.0</td>\n",
              "      <td>52.50</td>\n",
              "      <td>70.0</td>\n",
              "      <td>91.25</td>\n",
              "      <td>100.0</td>\n",
              "    </tr>\n",
              "    <tr>\n",
              "      <th>rr</th>\n",
              "      <td>630.0</td>\n",
              "      <td>21.8</td>\n",
              "      <td>3.966111</td>\n",
              "      <td>16.0</td>\n",
              "      <td>18.50</td>\n",
              "      <td>21.0</td>\n",
              "      <td>25.00</td>\n",
              "      <td>30.0</td>\n",
              "    </tr>\n",
              "    <tr>\n",
              "      <th>t</th>\n",
              "      <td>630.0</td>\n",
              "      <td>92.8</td>\n",
              "      <td>3.529690</td>\n",
              "      <td>85.0</td>\n",
              "      <td>90.50</td>\n",
              "      <td>93.0</td>\n",
              "      <td>95.50</td>\n",
              "      <td>99.0</td>\n",
              "    </tr>\n",
              "    <tr>\n",
              "      <th>lm</th>\n",
              "      <td>630.0</td>\n",
              "      <td>11.7</td>\n",
              "      <td>4.299629</td>\n",
              "      <td>4.0</td>\n",
              "      <td>8.50</td>\n",
              "      <td>11.0</td>\n",
              "      <td>15.75</td>\n",
              "      <td>19.0</td>\n",
              "    </tr>\n",
              "    <tr>\n",
              "      <th>bo</th>\n",
              "      <td>630.0</td>\n",
              "      <td>90.9</td>\n",
              "      <td>3.902483</td>\n",
              "      <td>82.0</td>\n",
              "      <td>88.50</td>\n",
              "      <td>91.0</td>\n",
              "      <td>94.25</td>\n",
              "      <td>97.0</td>\n",
              "    </tr>\n",
              "    <tr>\n",
              "      <th>rem</th>\n",
              "      <td>630.0</td>\n",
              "      <td>88.5</td>\n",
              "      <td>11.893747</td>\n",
              "      <td>60.0</td>\n",
              "      <td>81.25</td>\n",
              "      <td>90.0</td>\n",
              "      <td>98.75</td>\n",
              "      <td>105.0</td>\n",
              "    </tr>\n",
              "    <tr>\n",
              "      <th>sr.1</th>\n",
              "      <td>630.0</td>\n",
              "      <td>3.7</td>\n",
              "      <td>3.054572</td>\n",
              "      <td>0.0</td>\n",
              "      <td>0.50</td>\n",
              "      <td>3.5</td>\n",
              "      <td>6.50</td>\n",
              "      <td>9.0</td>\n",
              "    </tr>\n",
              "    <tr>\n",
              "      <th>hr</th>\n",
              "      <td>630.0</td>\n",
              "      <td>64.5</td>\n",
              "      <td>9.915277</td>\n",
              "      <td>50.0</td>\n",
              "      <td>56.25</td>\n",
              "      <td>62.5</td>\n",
              "      <td>72.50</td>\n",
              "      <td>85.0</td>\n",
              "    </tr>\n",
              "    <tr>\n",
              "      <th>sl</th>\n",
              "      <td>630.0</td>\n",
              "      <td>2.0</td>\n",
              "      <td>1.415337</td>\n",
              "      <td>0.0</td>\n",
              "      <td>1.00</td>\n",
              "      <td>2.0</td>\n",
              "      <td>3.00</td>\n",
              "      <td>4.0</td>\n",
              "    </tr>\n",
              "  </tbody>\n",
              "</table>\n",
              "</div>\n",
              "      <button class=\"colab-df-convert\" onclick=\"convertToInteractive('df-32521cd7-6488-46bb-b6d9-50dcbf123bfc')\"\n",
              "              title=\"Convert this dataframe to an interactive table.\"\n",
              "              style=\"display:none;\">\n",
              "        \n",
              "  <svg xmlns=\"http://www.w3.org/2000/svg\" height=\"24px\"viewBox=\"0 0 24 24\"\n",
              "       width=\"24px\">\n",
              "    <path d=\"M0 0h24v24H0V0z\" fill=\"none\"/>\n",
              "    <path d=\"M18.56 5.44l.94 2.06.94-2.06 2.06-.94-2.06-.94-.94-2.06-.94 2.06-2.06.94zm-11 1L8.5 8.5l.94-2.06 2.06-.94-2.06-.94L8.5 2.5l-.94 2.06-2.06.94zm10 10l.94 2.06.94-2.06 2.06-.94-2.06-.94-.94-2.06-.94 2.06-2.06.94z\"/><path d=\"M17.41 7.96l-1.37-1.37c-.4-.4-.92-.59-1.43-.59-.52 0-1.04.2-1.43.59L10.3 9.45l-7.72 7.72c-.78.78-.78 2.05 0 2.83L4 21.41c.39.39.9.59 1.41.59.51 0 1.02-.2 1.41-.59l7.78-7.78 2.81-2.81c.8-.78.8-2.07 0-2.86zM5.41 20L4 18.59l7.72-7.72 1.47 1.35L5.41 20z\"/>\n",
              "  </svg>\n",
              "      </button>\n",
              "      \n",
              "  <style>\n",
              "    .colab-df-container {\n",
              "      display:flex;\n",
              "      flex-wrap:wrap;\n",
              "      gap: 12px;\n",
              "    }\n",
              "\n",
              "    .colab-df-convert {\n",
              "      background-color: #E8F0FE;\n",
              "      border: none;\n",
              "      border-radius: 50%;\n",
              "      cursor: pointer;\n",
              "      display: none;\n",
              "      fill: #1967D2;\n",
              "      height: 32px;\n",
              "      padding: 0 0 0 0;\n",
              "      width: 32px;\n",
              "    }\n",
              "\n",
              "    .colab-df-convert:hover {\n",
              "      background-color: #E2EBFA;\n",
              "      box-shadow: 0px 1px 2px rgba(60, 64, 67, 0.3), 0px 1px 3px 1px rgba(60, 64, 67, 0.15);\n",
              "      fill: #174EA6;\n",
              "    }\n",
              "\n",
              "    [theme=dark] .colab-df-convert {\n",
              "      background-color: #3B4455;\n",
              "      fill: #D2E3FC;\n",
              "    }\n",
              "\n",
              "    [theme=dark] .colab-df-convert:hover {\n",
              "      background-color: #434B5C;\n",
              "      box-shadow: 0px 1px 3px 1px rgba(0, 0, 0, 0.15);\n",
              "      filter: drop-shadow(0px 1px 2px rgba(0, 0, 0, 0.3));\n",
              "      fill: #FFFFFF;\n",
              "    }\n",
              "  </style>\n",
              "\n",
              "      <script>\n",
              "        const buttonEl =\n",
              "          document.querySelector('#df-32521cd7-6488-46bb-b6d9-50dcbf123bfc button.colab-df-convert');\n",
              "        buttonEl.style.display =\n",
              "          google.colab.kernel.accessAllowed ? 'block' : 'none';\n",
              "\n",
              "        async function convertToInteractive(key) {\n",
              "          const element = document.querySelector('#df-32521cd7-6488-46bb-b6d9-50dcbf123bfc');\n",
              "          const dataTable =\n",
              "            await google.colab.kernel.invokeFunction('convertToInteractive',\n",
              "                                                     [key], {});\n",
              "          if (!dataTable) return;\n",
              "\n",
              "          const docLinkHtml = 'Like what you see? Visit the ' +\n",
              "            '<a target=\"_blank\" href=https://colab.research.google.com/notebooks/data_table.ipynb>data table notebook</a>'\n",
              "            + ' to learn more about interactive tables.';\n",
              "          element.innerHTML = '';\n",
              "          dataTable['output_type'] = 'display_data';\n",
              "          await google.colab.output.renderOutput(dataTable, element);\n",
              "          const docLink = document.createElement('div');\n",
              "          docLink.innerHTML = docLinkHtml;\n",
              "          element.appendChild(docLink);\n",
              "        }\n",
              "      </script>\n",
              "    </div>\n",
              "  </div>\n",
              "  "
            ]
          },
          "metadata": {},
          "execution_count": 88
        }
      ],
      "source": [
        "df.describe().transpose()"
      ]
    },
    {
      "cell_type": "code",
      "execution_count": 89,
      "id": "eea509ad",
      "metadata": {
        "scrolled": true,
        "colab": {
          "base_uri": "https://localhost:8080/",
          "height": 363
        },
        "id": "eea509ad",
        "outputId": "f0e2ce1e-be91-4ebe-a360-419e85c048b4"
      },
      "outputs": [
        {
          "output_type": "execute_result",
          "data": {
            "text/plain": [
              "      sr      rr       t      lm      bo    rem   sr.1     hr  sl\n",
              "0  93.80  25.680  91.840  16.600  89.840  99.60  1.840  74.20   3\n",
              "1  91.64  25.104  91.552  15.880  89.552  98.88  1.552  72.76   3\n",
              "2  60.00  20.000  96.000  10.000  95.000  85.00  7.000  60.00   1\n",
              "3  85.76  23.536  90.768  13.920  88.768  96.92  0.768  68.84   3\n",
              "4  48.12  17.248  97.872   6.496  96.248  72.48  8.248  53.12   0\n",
              "5  56.88  19.376  95.376   9.376  94.064  83.44  6.376  58.44   1\n",
              "6  47.00  16.800  97.200   5.600  95.800  68.00  7.800  52.00   0\n",
              "7  50.00  18.000  99.000   8.000  97.000  80.00  9.000  55.00   0\n",
              "8  45.28  16.112  96.168   4.224  95.112  61.12  7.112  50.28   0\n",
              "9  55.52  19.104  95.104   9.104  93.656  82.76  6.104  57.76   1"
            ],
            "text/html": [
              "\n",
              "  <div id=\"df-491b4445-9df4-4720-8448-252de309fccd\">\n",
              "    <div class=\"colab-df-container\">\n",
              "      <div>\n",
              "<style scoped>\n",
              "    .dataframe tbody tr th:only-of-type {\n",
              "        vertical-align: middle;\n",
              "    }\n",
              "\n",
              "    .dataframe tbody tr th {\n",
              "        vertical-align: top;\n",
              "    }\n",
              "\n",
              "    .dataframe thead th {\n",
              "        text-align: right;\n",
              "    }\n",
              "</style>\n",
              "<table border=\"1\" class=\"dataframe\">\n",
              "  <thead>\n",
              "    <tr style=\"text-align: right;\">\n",
              "      <th></th>\n",
              "      <th>sr</th>\n",
              "      <th>rr</th>\n",
              "      <th>t</th>\n",
              "      <th>lm</th>\n",
              "      <th>bo</th>\n",
              "      <th>rem</th>\n",
              "      <th>sr.1</th>\n",
              "      <th>hr</th>\n",
              "      <th>sl</th>\n",
              "    </tr>\n",
              "  </thead>\n",
              "  <tbody>\n",
              "    <tr>\n",
              "      <th>0</th>\n",
              "      <td>93.80</td>\n",
              "      <td>25.680</td>\n",
              "      <td>91.840</td>\n",
              "      <td>16.600</td>\n",
              "      <td>89.840</td>\n",
              "      <td>99.60</td>\n",
              "      <td>1.840</td>\n",
              "      <td>74.20</td>\n",
              "      <td>3</td>\n",
              "    </tr>\n",
              "    <tr>\n",
              "      <th>1</th>\n",
              "      <td>91.64</td>\n",
              "      <td>25.104</td>\n",
              "      <td>91.552</td>\n",
              "      <td>15.880</td>\n",
              "      <td>89.552</td>\n",
              "      <td>98.88</td>\n",
              "      <td>1.552</td>\n",
              "      <td>72.76</td>\n",
              "      <td>3</td>\n",
              "    </tr>\n",
              "    <tr>\n",
              "      <th>2</th>\n",
              "      <td>60.00</td>\n",
              "      <td>20.000</td>\n",
              "      <td>96.000</td>\n",
              "      <td>10.000</td>\n",
              "      <td>95.000</td>\n",
              "      <td>85.00</td>\n",
              "      <td>7.000</td>\n",
              "      <td>60.00</td>\n",
              "      <td>1</td>\n",
              "    </tr>\n",
              "    <tr>\n",
              "      <th>3</th>\n",
              "      <td>85.76</td>\n",
              "      <td>23.536</td>\n",
              "      <td>90.768</td>\n",
              "      <td>13.920</td>\n",
              "      <td>88.768</td>\n",
              "      <td>96.92</td>\n",
              "      <td>0.768</td>\n",
              "      <td>68.84</td>\n",
              "      <td>3</td>\n",
              "    </tr>\n",
              "    <tr>\n",
              "      <th>4</th>\n",
              "      <td>48.12</td>\n",
              "      <td>17.248</td>\n",
              "      <td>97.872</td>\n",
              "      <td>6.496</td>\n",
              "      <td>96.248</td>\n",
              "      <td>72.48</td>\n",
              "      <td>8.248</td>\n",
              "      <td>53.12</td>\n",
              "      <td>0</td>\n",
              "    </tr>\n",
              "    <tr>\n",
              "      <th>5</th>\n",
              "      <td>56.88</td>\n",
              "      <td>19.376</td>\n",
              "      <td>95.376</td>\n",
              "      <td>9.376</td>\n",
              "      <td>94.064</td>\n",
              "      <td>83.44</td>\n",
              "      <td>6.376</td>\n",
              "      <td>58.44</td>\n",
              "      <td>1</td>\n",
              "    </tr>\n",
              "    <tr>\n",
              "      <th>6</th>\n",
              "      <td>47.00</td>\n",
              "      <td>16.800</td>\n",
              "      <td>97.200</td>\n",
              "      <td>5.600</td>\n",
              "      <td>95.800</td>\n",
              "      <td>68.00</td>\n",
              "      <td>7.800</td>\n",
              "      <td>52.00</td>\n",
              "      <td>0</td>\n",
              "    </tr>\n",
              "    <tr>\n",
              "      <th>7</th>\n",
              "      <td>50.00</td>\n",
              "      <td>18.000</td>\n",
              "      <td>99.000</td>\n",
              "      <td>8.000</td>\n",
              "      <td>97.000</td>\n",
              "      <td>80.00</td>\n",
              "      <td>9.000</td>\n",
              "      <td>55.00</td>\n",
              "      <td>0</td>\n",
              "    </tr>\n",
              "    <tr>\n",
              "      <th>8</th>\n",
              "      <td>45.28</td>\n",
              "      <td>16.112</td>\n",
              "      <td>96.168</td>\n",
              "      <td>4.224</td>\n",
              "      <td>95.112</td>\n",
              "      <td>61.12</td>\n",
              "      <td>7.112</td>\n",
              "      <td>50.28</td>\n",
              "      <td>0</td>\n",
              "    </tr>\n",
              "    <tr>\n",
              "      <th>9</th>\n",
              "      <td>55.52</td>\n",
              "      <td>19.104</td>\n",
              "      <td>95.104</td>\n",
              "      <td>9.104</td>\n",
              "      <td>93.656</td>\n",
              "      <td>82.76</td>\n",
              "      <td>6.104</td>\n",
              "      <td>57.76</td>\n",
              "      <td>1</td>\n",
              "    </tr>\n",
              "  </tbody>\n",
              "</table>\n",
              "</div>\n",
              "      <button class=\"colab-df-convert\" onclick=\"convertToInteractive('df-491b4445-9df4-4720-8448-252de309fccd')\"\n",
              "              title=\"Convert this dataframe to an interactive table.\"\n",
              "              style=\"display:none;\">\n",
              "        \n",
              "  <svg xmlns=\"http://www.w3.org/2000/svg\" height=\"24px\"viewBox=\"0 0 24 24\"\n",
              "       width=\"24px\">\n",
              "    <path d=\"M0 0h24v24H0V0z\" fill=\"none\"/>\n",
              "    <path d=\"M18.56 5.44l.94 2.06.94-2.06 2.06-.94-2.06-.94-.94-2.06-.94 2.06-2.06.94zm-11 1L8.5 8.5l.94-2.06 2.06-.94-2.06-.94L8.5 2.5l-.94 2.06-2.06.94zm10 10l.94 2.06.94-2.06 2.06-.94-2.06-.94-.94-2.06-.94 2.06-2.06.94z\"/><path d=\"M17.41 7.96l-1.37-1.37c-.4-.4-.92-.59-1.43-.59-.52 0-1.04.2-1.43.59L10.3 9.45l-7.72 7.72c-.78.78-.78 2.05 0 2.83L4 21.41c.39.39.9.59 1.41.59.51 0 1.02-.2 1.41-.59l7.78-7.78 2.81-2.81c.8-.78.8-2.07 0-2.86zM5.41 20L4 18.59l7.72-7.72 1.47 1.35L5.41 20z\"/>\n",
              "  </svg>\n",
              "      </button>\n",
              "      \n",
              "  <style>\n",
              "    .colab-df-container {\n",
              "      display:flex;\n",
              "      flex-wrap:wrap;\n",
              "      gap: 12px;\n",
              "    }\n",
              "\n",
              "    .colab-df-convert {\n",
              "      background-color: #E8F0FE;\n",
              "      border: none;\n",
              "      border-radius: 50%;\n",
              "      cursor: pointer;\n",
              "      display: none;\n",
              "      fill: #1967D2;\n",
              "      height: 32px;\n",
              "      padding: 0 0 0 0;\n",
              "      width: 32px;\n",
              "    }\n",
              "\n",
              "    .colab-df-convert:hover {\n",
              "      background-color: #E2EBFA;\n",
              "      box-shadow: 0px 1px 2px rgba(60, 64, 67, 0.3), 0px 1px 3px 1px rgba(60, 64, 67, 0.15);\n",
              "      fill: #174EA6;\n",
              "    }\n",
              "\n",
              "    [theme=dark] .colab-df-convert {\n",
              "      background-color: #3B4455;\n",
              "      fill: #D2E3FC;\n",
              "    }\n",
              "\n",
              "    [theme=dark] .colab-df-convert:hover {\n",
              "      background-color: #434B5C;\n",
              "      box-shadow: 0px 1px 3px 1px rgba(0, 0, 0, 0.15);\n",
              "      filter: drop-shadow(0px 1px 2px rgba(0, 0, 0, 0.3));\n",
              "      fill: #FFFFFF;\n",
              "    }\n",
              "  </style>\n",
              "\n",
              "      <script>\n",
              "        const buttonEl =\n",
              "          document.querySelector('#df-491b4445-9df4-4720-8448-252de309fccd button.colab-df-convert');\n",
              "        buttonEl.style.display =\n",
              "          google.colab.kernel.accessAllowed ? 'block' : 'none';\n",
              "\n",
              "        async function convertToInteractive(key) {\n",
              "          const element = document.querySelector('#df-491b4445-9df4-4720-8448-252de309fccd');\n",
              "          const dataTable =\n",
              "            await google.colab.kernel.invokeFunction('convertToInteractive',\n",
              "                                                     [key], {});\n",
              "          if (!dataTable) return;\n",
              "\n",
              "          const docLinkHtml = 'Like what you see? Visit the ' +\n",
              "            '<a target=\"_blank\" href=https://colab.research.google.com/notebooks/data_table.ipynb>data table notebook</a>'\n",
              "            + ' to learn more about interactive tables.';\n",
              "          element.innerHTML = '';\n",
              "          dataTable['output_type'] = 'display_data';\n",
              "          await google.colab.output.renderOutput(dataTable, element);\n",
              "          const docLink = document.createElement('div');\n",
              "          docLink.innerHTML = docLinkHtml;\n",
              "          element.appendChild(docLink);\n",
              "        }\n",
              "      </script>\n",
              "    </div>\n",
              "  </div>\n",
              "  "
            ]
          },
          "metadata": {},
          "execution_count": 89
        }
      ],
      "source": [
        "df.head(10)"
      ]
    },
    {
      "cell_type": "code",
      "execution_count": 90,
      "id": "f0326cd1",
      "metadata": {
        "scrolled": true,
        "colab": {
          "base_uri": "https://localhost:8080/",
          "height": 1000
        },
        "id": "f0326cd1",
        "outputId": "e3fa9e99-c1aa-407d-bc24-4d7b48597cdf"
      },
      "outputs": [
        {
          "output_type": "execute_result",
          "data": {
            "text/plain": [
              "<matplotlib.axes._subplots.AxesSubplot at 0x7f1db5bd4d30>"
            ]
          },
          "metadata": {},
          "execution_count": 90
        },
        {
          "output_type": "display_data",
          "data": {
            "text/plain": [
              "<Figure size 1200x1200 with 2 Axes>"
            ],
            "image/png": "[encoded data removed]"
          },
          "metadata": {
            "needs_background": "light"
          }
        }
      ],
      "source": [
        "plt.figure(figsize=(8,8),dpi=150)\n",
        "sns.heatmap(df.corr(),annot=True)"
      ]
    },
    {
      "cell_type": "code",
      "execution_count": 91,
      "id": "25f79e89",
      "metadata": {
        "colab": {
          "base_uri": "https://localhost:8080/",
          "height": 203
        },
        "id": "25f79e89",
        "outputId": "607bfdc5-302b-453e-845e-8e5704c083c1"
      },
      "outputs": [
        {
          "output_type": "execute_result",
          "data": {
            "text/plain": [
              "<seaborn.axisgrid.PairGrid at 0x7f1db5af2df0>"
            ]
          },
          "metadata": {},
          "execution_count": 91
        },
        {
          "output_type": "display_data",
          "data": {
            "text/plain": [
              "<Figure size 1620x180 with 10 Axes>"
            ],
            "image/png": "[encoded data removed]"
          },
          "metadata": {
            "needs_background": "light"
          }
        }
      ],
      "source": [
        "sns.pairplot(df, y_vars='sl', x_vars=df.columns.values)"
      ]
    },
    {
      "cell_type": "markdown",
      "id": "2d283ecf",
      "metadata": {
        "id": "2d283ecf"
      },
      "source": [
        "Judging from staircase shape like plots, it looks like logistic regression should yield fairly accurate results"
      ]
    },
    {
      "cell_type": "markdown",
      "id": "d516fcdd",
      "metadata": {
        "id": "d516fcdd"
      },
      "source": [
        "## Preprocessing"
      ]
    },
    {
      "cell_type": "code",
      "execution_count": 92,
      "id": "44f6acfd",
      "metadata": {
        "id": "44f6acfd"
      },
      "outputs": [],
      "source": [
        "# Separating Label\n",
        "X = df.drop('sl',axis=1)\n",
        "y = df['sl']"
      ]
    },
    {
      "cell_type": "code",
      "execution_count": 93,
      "id": "d62f7275",
      "metadata": {
        "id": "d62f7275"
      },
      "outputs": [],
      "source": [
        "# TRAIN TEST SPLIT\n",
        "from sklearn.model_selection import train_test_split\n",
        "X_train, X_test, y_train, y_test = train_test_split(X, y, test_size=0.3, random_state=101)"
      ]
    },
    {
      "cell_type": "code",
      "execution_count": 94,
      "id": "12c26715",
      "metadata": {
        "id": "12c26715"
      },
      "outputs": [],
      "source": [
        "# SCALE DATA\n",
        "from sklearn.preprocessing import StandardScaler\n",
        "scaler = StandardScaler()\n",
        "scaler.fit(X_train)\n",
        "sX_train = scaler.transform(X_train)\n",
        "sX_test = scaler.transform(X_test)"
      ]
    },
    {
      "cell_type": "code",
      "execution_count": 95,
      "id": "f78a8279",
      "metadata": {
        "id": "f78a8279"
      },
      "outputs": [],
      "source": [
        "from sklearn.model_selection import GridSearchCV\n",
        "from sklearn.metrics import accuracy_score,confusion_matrix,classification_report,plot_confusion_matrix"
      ]
    },
    {
      "cell_type": "markdown",
      "id": "d64ec498",
      "metadata": {
        "id": "d64ec498"
      },
      "source": [
        "## Logistic Regression"
      ]
    },
    {
      "cell_type": "code",
      "execution_count": 96,
      "id": "b6ccb6e8",
      "metadata": {
        "id": "b6ccb6e8"
      },
      "outputs": [],
      "source": [
        "from sklearn.linear_model import LogisticRegression"
      ]
    },
    {
      "cell_type": "code",
      "execution_count": 97,
      "id": "c4b32d89",
      "metadata": {
        "id": "c4b32d89"
      },
      "outputs": [],
      "source": [
        "log_model = LogisticRegression(multi_class=\"ovr\",max_iter=5000000000)"
      ]
    },
    {
      "cell_type": "code",
      "execution_count": 98,
      "id": "ba197d99",
      "metadata": {
        "colab": {
          "base_uri": "https://localhost:8080/"
        },
        "id": "ba197d99",
        "outputId": "9593d0bc-7b66-495a-db91-894a498d70d6"
      },
      "outputs": [
        {
          "output_type": "execute_result",
          "data": {
            "text/plain": [
              "LogisticRegression(max_iter=5000000000, multi_class='ovr')"
            ]
          },
          "metadata": {},
          "execution_count": 98
        }
      ],
      "source": [
        "log_model.fit(sX_train,y_train)"
      ]
    },
    {
      "cell_type": "code",
      "execution_count": 99,
      "id": "5b66190b",
      "metadata": {
        "colab": {
          "base_uri": "https://localhost:8080/"
        },
        "id": "5b66190b",
        "outputId": "7f150650-9134-4b8c-ba67-d46c2237ae47"
      },
      "outputs": [
        {
          "output_type": "execute_result",
          "data": {
            "text/plain": [
              "array([[-0.81690359, -0.98432225,  1.83048196, -1.27163562,  1.55156138,\n",
              "        -1.80450113,  1.64177258, -0.98432225],\n",
              "       [-5.0706216 , -0.85084529, -3.27146401,  1.33304752,  0.6158265 ,\n",
              "         3.51638181,  2.34744491, -0.85084529],\n",
              "       [ 0.1072966 , -1.44014857,  1.04748838, -2.40712448, -1.17892164,\n",
              "         4.33221106, -0.54166138, -1.44014857],\n",
              "       [ 3.90119397, -2.46937298,  1.61702812,  0.84521949,  2.19173303,\n",
              "         1.76126243, -4.74851176, -2.46937298],\n",
              "       [ 0.69886193,  1.51066636, -1.65693243,  1.06614374, -1.68096928,\n",
              "         0.63519622, -0.76422247,  1.51066636]])"
            ]
          },
          "metadata": {},
          "execution_count": 99
        }
      ],
      "source": [
        "log_model.coef_"
      ]
    },
    {
      "cell_type": "code",
      "source": [
        "y_pred = log_model.predict(sX_test)"
      ],
      "metadata": {
        "id": "gFwipg1-GTDZ"
      },
      "id": "gFwipg1-GTDZ",
      "execution_count": 100,
      "outputs": []
    },
    {
      "cell_type": "code",
      "source": [
        "accuracy_score(y_test,y_pred)"
      ],
      "metadata": {
        "colab": {
          "base_uri": "https://localhost:8080/"
        },
        "id": "uS79shqWGnGT",
        "outputId": "8e8bcb1d-9076-4e05-93c8-b3820dd3b819"
      },
      "id": "uS79shqWGnGT",
      "execution_count": 101,
      "outputs": [
        {
          "output_type": "execute_result",
          "data": {
            "text/plain": [
              "1.0"
            ]
          },
          "metadata": {},
          "execution_count": 101
        }
      ]
    },
    {
      "cell_type": "code",
      "source": [
        "plot_confusion_matrix(log_model,sX_test,y_test,normalize='true')"
      ],
      "metadata": {
        "colab": {
          "base_uri": "https://localhost:8080/",
          "height": 355
        },
        "id": "sPwvz515GWQ5",
        "outputId": "c7c1d3e2-a453-4b86-90aa-f50b7c0f7e8f"
      },
      "id": "sPwvz515GWQ5",
      "execution_count": 102,
      "outputs": [
        {
          "output_type": "stream",
          "name": "stderr",
          "text": [
            "/usr/local/lib/python3.8/dist-packages/sklearn/utils/deprecation.py:87: FutureWarning: Function plot_confusion_matrix is deprecated; Function `plot_confusion_matrix` is deprecated in 1.0 and will be removed in 1.2. Use one of the class methods: ConfusionMatrixDisplay.from_predictions or ConfusionMatrixDisplay.from_estimator.\n",
            "  warnings.warn(msg, category=FutureWarning)\n"
          ]
        },
        {
          "output_type": "execute_result",
          "data": {
            "text/plain": [
              "<sklearn.metrics._plot.confusion_matrix.ConfusionMatrixDisplay at 0x7f1db57e44f0>"
            ]
          },
          "metadata": {},
          "execution_count": 102
        },
        {
          "output_type": "display_data",
          "data": {
            "text/plain": [
              "<Figure size 432x288 with 2 Axes>"
            ],
            "image/png": "[encoded data removed]"
          },
          "metadata": {
            "needs_background": "light"
          }
        }
      ]
    },
    {
      "cell_type": "markdown",
      "source": [
        "## Inference\n",
        "As we saw from the pair plot, we had very distinct boundaries for stress level for all features. So our model was able to achieve 100% accuracy fairly easly"
      ],
      "metadata": {
        "id": "fkKIV5Y3MfmD"
      },
      "id": "fkKIV5Y3MfmD"
    }
  ],
  "metadata": {
    "kernelspec": {
      "display_name": "Python 3 (ipykernel)",
      "language": "python",
      "name": "python3"
    },
    "language_info": {
      "codemirror_mode": {
        "name": "ipython",
        "version": 3
      },
      "file_extension": ".py",
      "mimetype": "text/x-python",
      "name": "python",
      "nbconvert_exporter": "python",
      "pygments_lexer": "ipython3",
      "version": "3.7.15"
    },
    "colab": {
      "provenance": [],
      "include_colab_link": true
    }
  },
  "nbformat": 4,
  "nbformat_minor": 5
}