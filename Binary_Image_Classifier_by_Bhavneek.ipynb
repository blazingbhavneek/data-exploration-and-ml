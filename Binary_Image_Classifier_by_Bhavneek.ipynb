{
  "nbformat": 4,
  "nbformat_minor": 0,
  "metadata": {
    "colab": {
      "provenance": [],
      "mount_file_id": "1MGOS08xy-krd-7gYC40IFPefadOv_nHn",
      "authorship_tag": "ABX9TyOSswCP5ht5iiueufmbxv8n",
      "include_colab_link": true
    },
    "kernelspec": {
      "name": "python3",
      "display_name": "Python 3"
    },
    "language_info": {
      "name": "python"
    },
    "accelerator": "TPU",
    "gpuClass": "standard"
  },
  "cells": [
    {
      "cell_type": "markdown",
      "metadata": {
        "id": "view-in-github",
        "colab_type": "text"
      },
      "source": [
        "<a href=\"https://colab.research.google.com/github/blazingbhavneek/scikit-learn_projects/blob/master/Binary_Image_Classifier_by_Bhavneek.ipynb\" target=\"_parent\"><img src=\"https://colab.research.google.com/assets/colab-badge.svg\" alt=\"Open In Colab\"/></a>"
      ]
    },
    {
      "cell_type": "markdown",
      "source": [
        "# Sports-Conditional Exercise Image Binary Classifier\n",
        "## By Bhavneek Singh (IIT Delhi)\n",
        "\n",
        "This project is part of internship assessment test by i'm beside you. Dataset and task description was given the company itself.\n",
        "\n",
        "## Initial Assessment\n",
        "On downloading and looking at the dataset, one can think of a Naive approach of training a CNN, given the `conditioning exercise` images seems to have a lot in common with each other than the `sports` group (i.e sports images are very diverse, a good chance that model wont be able to detect common features)\n",
        "\n",
        "## Naive Approach: Basic CNN\n"
      ],
      "metadata": {
        "id": "5770OSwLZwXj"
      }
    },
    {
      "cell_type": "code",
      "execution_count": 2,
      "metadata": {
        "id": "qTjDmA_NZcZp"
      },
      "outputs": [],
      "source": [
        "# Importing all necessary libraries\n",
        "import tensorflow as tf\n",
        "from tensorflow.keras.utils import plot_model\n",
        "\n",
        "from tensorflow.keras import Sequential\n",
        "from tensorflow.keras.layers import (Activation, Conv2D, Dense, Flatten,\n",
        "                                     MaxPool2D)\n",
        "\n",
        "from tensorflow.keras.optimizers import Adam, SGD\n",
        "\n",
        "from tensorflow.keras.preprocessing.image import ImageDataGenerator\n",
        "\n",
        "import numpy as np\n",
        "import matplotlib.pyplot as plt\n",
        "\n",
        "from sklearn.metrics import confusion_matrix\n",
        "\n",
        "import os\n",
        "\n",
        "import random\n",
        "\n",
        "import zipfile\n",
        "\n",
        "import matplotlib.image as mpimg\n",
        "import matplotlib.pyplot as plt\n",
        "\n",
        "import pandas as pd"
      ]
    },
    {
      "cell_type": "code",
      "source": [
        "zip_ref = zipfile.ZipFile(\"/content/drive/My Drive/data.zip\", 'r')\n",
        "zip_ref.extractall(\"/tmp\")\n",
        "zip_ref.close()"
      ],
      "metadata": {
        "id": "CZ9EluHVcaEx"
      },
      "execution_count": 3,
      "outputs": []
    },
    {
      "cell_type": "code",
      "source": [
        "# Walk through data directory and list number of files\n",
        "for dirpath, dirnames, filenames in os.walk(\"/tmp/data\"):\n",
        "  print(f\"There are {len(dirnames)} directories and {len(filenames)} images in '{dirpath}'.\")"
      ],
      "metadata": {
        "colab": {
          "base_uri": "https://localhost:8080/"
        },
        "id": "Rru7Mc1Lh76p",
        "outputId": "2b2d6f78-d728-4080-90f8-9b4ad890def4"
      },
      "execution_count": 6,
      "outputs": [
        {
          "output_type": "stream",
          "name": "stdout",
          "text": [
            "There are 2 directories and 1 images in '/tmp/data'.\n",
            "There are 2 directories and 1 images in '/tmp/data/test'.\n",
            "There are 0 directories and 337 images in '/tmp/data/test/conditioning exercise'.\n",
            "There are 0 directories and 690 images in '/tmp/data/test/sports'.\n",
            "There are 2 directories and 1 images in '/tmp/data/train'.\n",
            "There are 0 directories and 1345 images in '/tmp/data/train/conditioning exercise'.\n",
            "There are 0 directories and 2760 images in '/tmp/data/train/sports'.\n"
          ]
        }
      ]
    },
    {
      "cell_type": "code",
      "source": [
        "# Get the class names\n",
        "import pathlib\n",
        "import numpy as np\n",
        "data_dir = pathlib.Path(\"/tmp/data/test/\")\n",
        "class_names = np.array(sorted([item.name for item in data_dir.glob('*')]))\n",
        "class_names = class_names[1:]\n",
        "class_names"
      ],
      "metadata": {
        "colab": {
          "base_uri": "https://localhost:8080/"
        },
        "id": "9a_b0oPBipq_",
        "outputId": "8cf518e5-98fe-49cd-f8d8-831b31a9fbe3"
      },
      "execution_count": 9,
      "outputs": [
        {
          "output_type": "execute_result",
          "data": {
            "text/plain": [
              "array(['conditioning exercise', 'sports'], dtype='<U21')"
            ]
          },
          "metadata": {},
          "execution_count": 9
        }
      ]
    },
    {
      "cell_type": "markdown",
      "source": [
        "## Pre-Processing"
      ],
      "metadata": {
        "id": "HsMSKXNLjQ6H"
      }
    },
    {
      "cell_type": "code",
      "source": [
        "# Set the seed\n",
        "tf.random.set_seed(42)\n",
        "\n",
        "# scaling\n",
        "train_datagen = ImageDataGenerator(rescale=1./255)\n",
        "valid_datagen = ImageDataGenerator(rescale=1./255)\n",
        "\n",
        "# Setup the train and test directories\n",
        "train_dir = \"/tmp/data/train/\"\n",
        "test_dir = \"/tmp/data/test/\"\n",
        "\n",
        "# Import data from directories and turn it into batches\n",
        "train_data = train_datagen.flow_from_directory(train_dir,\n",
        "                                               batch_size=32, \n",
        "                                               target_size=(224, 224),\n",
        "                                               class_mode=\"binary\",\n",
        "                                               seed=42)\n",
        "\n",
        "valid_data = valid_datagen.flow_from_directory(test_dir,\n",
        "                                               batch_size=32,\n",
        "                                               target_size=(224, 224),\n",
        "                                               class_mode=\"binary\",\n",
        "                                               seed=42)\n"
      ],
      "metadata": {
        "colab": {
          "base_uri": "https://localhost:8080/"
        },
        "id": "bQkDZwDGjOpo",
        "outputId": "325a0a6c-be6c-407c-ca9b-8ea9fd1e0802"
      },
      "execution_count": 10,
      "outputs": [
        {
          "output_type": "stream",
          "name": "stdout",
          "text": [
            "Found 4105 images belonging to 2 classes.\n",
            "Found 1027 images belonging to 2 classes.\n"
          ]
        }
      ]
    },
    {
      "cell_type": "markdown",
      "source": [
        "# Initial Model"
      ],
      "metadata": {
        "id": "sKJtQofUkTp-"
      }
    },
    {
      "cell_type": "code",
      "source": [
        "# A CNN model (same as Tiny VGG - https://poloclub.github.io/cnn-explainer/)\n",
        "model = tf.keras.models.Sequential([\n",
        "  Conv2D(filters=10,\n",
        "\t\t\t\t\tkernel_size=3,\n",
        "\t\t\t\t\tactivation=\"relu\", \n",
        "\t\t\t\t\tinput_shape=(224, 224, 3)\n",
        "\t),\n",
        "\n",
        "  Conv2D(10, 3, activation=\"relu\"),\n",
        "  MaxPool2D(pool_size=2, \n",
        "            padding=\"valid\"), \n",
        "  Conv2D(10, 3, activation=\"relu\"),\n",
        "  Conv2D(10, 3, activation=\"relu\"),\n",
        "  MaxPool2D(2),\n",
        "  Flatten(),\n",
        "  tf.keras.layers.Dense(1, activation=\"sigmoid\") \n",
        "])"
      ],
      "metadata": {
        "id": "c0ed5FEUkOqh"
      },
      "execution_count": 13,
      "outputs": []
    },
    {
      "cell_type": "code",
      "source": [
        "# Compile the model\n",
        "model.compile(loss=\"binary_crossentropy\",\n",
        "              optimizer=tf.keras.optimizers.Adam(),\n",
        "              metrics=[\"accuracy\"])\n"
      ],
      "metadata": {
        "id": "D7RYTJvnkm8r"
      },
      "execution_count": 14,
      "outputs": []
    },
    {
      "cell_type": "code",
      "source": [
        "# Fit the model\n",
        "history = model.fit(train_data,\n",
        "                        epochs=5,\n",
        "                        steps_per_epoch=len(train_data),\n",
        "                        validation_data=valid_data,\n",
        "                        validation_steps=len(valid_data))\n"
      ],
      "metadata": {
        "colab": {
          "base_uri": "https://localhost:8080/"
        },
        "id": "n4Z3tf0xkpSE",
        "outputId": "bf958579-891c-4e14-e88a-630456d71b0b"
      },
      "execution_count": 15,
      "outputs": [
        {
          "output_type": "stream",
          "name": "stdout",
          "text": [
            "Epoch 1/5\n",
            "129/129 [==============================] - 469s 4s/step - loss: 0.5952 - accuracy: 0.6967 - val_loss: 0.5247 - val_accuracy: 0.7390\n",
            "Epoch 2/5\n",
            "129/129 [==============================] - 458s 4s/step - loss: 0.5183 - accuracy: 0.7398 - val_loss: 0.5043 - val_accuracy: 0.7371\n",
            "Epoch 3/5\n",
            "129/129 [==============================] - 463s 4s/step - loss: 0.4412 - accuracy: 0.7946 - val_loss: 0.4277 - val_accuracy: 0.8208\n",
            "Epoch 4/5\n",
            "129/129 [==============================] - 469s 4s/step - loss: 0.3236 - accuracy: 0.8672 - val_loss: 0.4174 - val_accuracy: 0.8238\n",
            "Epoch 5/5\n",
            "129/129 [==============================] - 467s 4s/step - loss: 0.2395 - accuracy: 0.9050 - val_loss: 0.4624 - val_accuracy: 0.8218\n"
          ]
        }
      ]
    }
  ]
}