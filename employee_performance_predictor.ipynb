{
  "cells": [
    {
      "cell_type": "markdown",
      "metadata": {
        "id": "JHV4Aqubj-Ce"
      },
      "source": [
        "# **Employee Performance predictor**\n",
        "## By [Bhavneek Singh](https://bhavneek.netlify.app/), IIT Delhi\n",
        "\n",
        "### Dataset Description\n",
        "\n",
        "This dataset includes important attributes of the garment manufacturing process and the productivity of the employees which had been collected manually and also been validated by the industry experts.\n",
        "\n",
        "day : Day of the Week\n",
        "\n",
        "quarter : A portion of the month. A month was divided into four quarters\n",
        "\n",
        "department : Associated department with the instance\n",
        "\n",
        "team no. : Associated team number with the instance \n",
        "\n",
        "noofworkers : Number of workers in each team \n",
        "\n",
        "noofstylechange : Number of changes in the style of a particular product\n",
        "\n",
        "targetedproductivity : Targeted productivity set by the Authority for each team for each day. \n",
        "\n",
        "smv : Standard Minute Value, it is the allocated time for a task \n",
        "\n",
        "wip : Work in progress. Includes the number of unfinished items for products \n",
        "\n",
        "overtime : Represents the amount of overtime by each team in minutes\n",
        "\n",
        "incentive : Represents the amount of financial incentive (in BDT) that enables or motivates a particular course of action.\n",
        "\n",
        "idletime : The amount of time when the production was interrupted due to several reasons \n",
        "\n",
        "idlemen : The number of workers who were idle due to production interruption\n",
        "\n",
        "actual_productivity : The actual % of productivity that was delivered by the workers. It ranges from 0-1."
      ]
    },
    {
      "cell_type": "code",
      "execution_count": null,
      "metadata": {
        "_cell_guid": "b1076dfc-b9ad-4769-8c92-a6c4dae69d19",
        "_uuid": "8f2839f25d086af736a60e9eeb907d3b93b6e0e5",
        "execution": {
          "iopub.execute_input": "2022-12-21T06:27:48.983786Z",
          "iopub.status.busy": "2022-12-21T06:27:48.983350Z",
          "iopub.status.idle": "2022-12-21T06:27:49.007616Z",
          "shell.execute_reply": "2022-12-21T06:27:49.006684Z",
          "shell.execute_reply.started": "2022-12-21T06:27:48.983753Z"
        },
        "id": "crk59ImQj-Ch",
        "outputId": "f722ffee-6bbe-4f51-b6cc-afd71843d261"
      },
      "outputs": [
        {
          "name": "stdout",
          "output_type": "stream",
          "text": [
            "/kaggle/input/employee-performance-prediction/train_dataset.csv\n",
            "/kaggle/input/employee-performance-prediction/test_dataset.csv\n"
          ]
        }
      ],
      "source": [
        "# This Python 3 environment comes with many helpful analytics libraries installed\n",
        "# It is defined by the kaggle/python Docker image: https://github.com/kaggle/docker-python\n",
        "# For example, here's several helpful packages to load\n",
        "\n",
        "# Input data files are available in the read-only \"../input/\" directory\n",
        "# For example, running this (by clicking run or pressing Shift+Enter) will list all files under the input directory\n",
        "\n",
        "import os\n",
        "for dirname, _, filenames in os.walk('/kaggle/input'):\n",
        "    for filename in filenames:\n",
        "        print(os.path.join(dirname, filename))\n",
        "\n",
        "# You can write up to 20GB to the current directory (/kaggle/working/) that gets preserved as output when you create a version using \"Save & Run All\" \n",
        "# You can also write temporary files to /kaggle/temp/, but they won't be saved outside of the current session"
      ]
    },
    {
      "cell_type": "code",
      "execution_count": null,
      "metadata": {
        "execution": {
          "iopub.execute_input": "2022-12-21T06:27:49.389900Z",
          "iopub.status.busy": "2022-12-21T06:27:49.389505Z",
          "iopub.status.idle": "2022-12-21T06:27:50.300484Z",
          "shell.execute_reply": "2022-12-21T06:27:50.299291Z",
          "shell.execute_reply.started": "2022-12-21T06:27:49.389866Z"
        },
        "id": "-3GFleBXj-Cl"
      },
      "outputs": [],
      "source": [
        "import numpy as np\n",
        "import pandas as pd\n",
        "import matplotlib.pyplot as plt\n",
        "import seaborn as sns"
      ]
    },
    {
      "cell_type": "code",
      "execution_count": null,
      "metadata": {
        "execution": {
          "iopub.execute_input": "2022-12-21T06:27:50.508866Z",
          "iopub.status.busy": "2022-12-21T06:27:50.507792Z",
          "iopub.status.idle": "2022-12-21T06:27:50.529908Z",
          "shell.execute_reply": "2022-12-21T06:27:50.528758Z",
          "shell.execute_reply.started": "2022-12-21T06:27:50.508819Z"
        },
        "id": "ozhLuh__j-Cn"
      },
      "outputs": [],
      "source": [
        "df = pd.read_csv(\"/kaggle/input/employee-performance-prediction/train_dataset.csv\")"
      ]
    },
    {
      "cell_type": "code",
      "execution_count": null,
      "metadata": {
        "execution": {
          "iopub.execute_input": "2022-12-21T06:27:51.686134Z",
          "iopub.status.busy": "2022-12-21T06:27:51.685691Z",
          "iopub.status.idle": "2022-12-21T06:27:51.716981Z",
          "shell.execute_reply": "2022-12-21T06:27:51.715745Z",
          "shell.execute_reply.started": "2022-12-21T06:27:51.686097Z"
        },
        "id": "3HJcq1lSj-Co",
        "outputId": "59b011eb-a649-4cd2-b213-ac9b830a322b"
      },
      "outputs": [
        {
          "name": "stdout",
          "output_type": "stream",
          "text": [
            "<class 'pandas.core.frame.DataFrame'>\n",
            "RangeIndex: 1017 entries, 0 to 1016\n",
            "Data columns (total 26 columns):\n",
            " #   Column                 Non-Null Count  Dtype  \n",
            "---  ------                 --------------  -----  \n",
            " 0   team                   1017 non-null   int64  \n",
            " 1   targeted_productivity  1017 non-null   float64\n",
            " 2   smv                    1017 non-null   float64\n",
            " 3   wip                    594 non-null    float64\n",
            " 4   over_time              1017 non-null   int64  \n",
            " 5   incentive              1017 non-null   int64  \n",
            " 6   idle_time              1017 non-null   float64\n",
            " 7   idle_men               1017 non-null   int64  \n",
            " 8   no_of_style_change     1017 non-null   int64  \n",
            " 9   no_of_workers          1017 non-null   float64\n",
            " 10  month                  1017 non-null   int64  \n",
            " 11  quarter_Quarter1       1017 non-null   int64  \n",
            " 12  quarter_Quarter2       1017 non-null   int64  \n",
            " 13  quarter_Quarter3       1017 non-null   int64  \n",
            " 14  quarter_Quarter4       1017 non-null   int64  \n",
            " 15  quarter_Quarter5       1017 non-null   int64  \n",
            " 16  department_finishing   1017 non-null   int64  \n",
            " 17  department_finishing   1017 non-null   int64  \n",
            " 18  department_sweing      1017 non-null   int64  \n",
            " 19  day_Monday             1017 non-null   int64  \n",
            " 20  day_Saturday           1017 non-null   int64  \n",
            " 21  day_Sunday             1017 non-null   int64  \n",
            " 22  day_Thursday           1017 non-null   int64  \n",
            " 23  day_Tuesday            1017 non-null   int64  \n",
            " 24  day_Wednesday          1017 non-null   int64  \n",
            " 25  actual_productivity    1017 non-null   float64\n",
            "dtypes: float64(6), int64(20)\n",
            "memory usage: 206.7 KB\n"
          ]
        }
      ],
      "source": [
        "df.info()"
      ]
    },
    {
      "cell_type": "code",
      "execution_count": null,
      "metadata": {
        "execution": {
          "iopub.execute_input": "2022-12-21T06:27:52.130955Z",
          "iopub.status.busy": "2022-12-21T06:27:52.130535Z",
          "iopub.status.idle": "2022-12-21T06:27:52.224925Z",
          "shell.execute_reply": "2022-12-21T06:27:52.223686Z",
          "shell.execute_reply.started": "2022-12-21T06:27:52.130916Z"
        },
        "id": "AaGRWOdpj-Cp",
        "outputId": "579149cf-574b-49ff-addb-b2296e03ff01"
      },
      "outputs": [
        {
          "data": {
            "text/html": [
              "<div>\n",
              "<style scoped>\n",
              "    .dataframe tbody tr th:only-of-type {\n",
              "        vertical-align: middle;\n",
              "    }\n",
              "\n",
              "    .dataframe tbody tr th {\n",
              "        vertical-align: top;\n",
              "    }\n",
              "\n",
              "    .dataframe thead th {\n",
              "        text-align: right;\n",
              "    }\n",
              "</style>\n",
              "<table border=\"1\" class=\"dataframe\">\n",
              "  <thead>\n",
              "    <tr style=\"text-align: right;\">\n",
              "      <th></th>\n",
              "      <th>team</th>\n",
              "      <th>targeted_productivity</th>\n",
              "      <th>smv</th>\n",
              "      <th>wip</th>\n",
              "      <th>over_time</th>\n",
              "      <th>incentive</th>\n",
              "      <th>idle_time</th>\n",
              "      <th>idle_men</th>\n",
              "      <th>no_of_style_change</th>\n",
              "      <th>no_of_workers</th>\n",
              "      <th>...</th>\n",
              "      <th>department_finishing</th>\n",
              "      <th>department_finishing</th>\n",
              "      <th>department_sweing</th>\n",
              "      <th>day_Monday</th>\n",
              "      <th>day_Saturday</th>\n",
              "      <th>day_Sunday</th>\n",
              "      <th>day_Thursday</th>\n",
              "      <th>day_Tuesday</th>\n",
              "      <th>day_Wednesday</th>\n",
              "      <th>actual_productivity</th>\n",
              "    </tr>\n",
              "  </thead>\n",
              "  <tbody>\n",
              "    <tr>\n",
              "      <th>count</th>\n",
              "      <td>1017.000000</td>\n",
              "      <td>1017.000000</td>\n",
              "      <td>1017.000000</td>\n",
              "      <td>594.000000</td>\n",
              "      <td>1017.000000</td>\n",
              "      <td>1017.000000</td>\n",
              "      <td>1017.000000</td>\n",
              "      <td>1017.000000</td>\n",
              "      <td>1017.000000</td>\n",
              "      <td>1017.000000</td>\n",
              "      <td>...</td>\n",
              "      <td>1017.000000</td>\n",
              "      <td>1017.000000</td>\n",
              "      <td>1017.000000</td>\n",
              "      <td>1017.000000</td>\n",
              "      <td>1017.000000</td>\n",
              "      <td>1017.000000</td>\n",
              "      <td>1017.000000</td>\n",
              "      <td>1017.000000</td>\n",
              "      <td>1017.000000</td>\n",
              "      <td>1017.000000</td>\n",
              "    </tr>\n",
              "    <tr>\n",
              "      <th>mean</th>\n",
              "      <td>6.443461</td>\n",
              "      <td>0.730747</td>\n",
              "      <td>15.150492</td>\n",
              "      <td>1183.183502</td>\n",
              "      <td>4532.940020</td>\n",
              "      <td>40.689282</td>\n",
              "      <td>0.564405</td>\n",
              "      <td>0.398230</td>\n",
              "      <td>0.160275</td>\n",
              "      <td>34.846116</td>\n",
              "      <td>...</td>\n",
              "      <td>0.201573</td>\n",
              "      <td>0.214356</td>\n",
              "      <td>0.584071</td>\n",
              "      <td>0.161259</td>\n",
              "      <td>0.152409</td>\n",
              "      <td>0.164208</td>\n",
              "      <td>0.165192</td>\n",
              "      <td>0.171091</td>\n",
              "      <td>0.185841</td>\n",
              "      <td>0.736509</td>\n",
              "    </tr>\n",
              "    <tr>\n",
              "      <th>std</th>\n",
              "      <td>3.472473</td>\n",
              "      <td>0.097384</td>\n",
              "      <td>10.946096</td>\n",
              "      <td>1793.836719</td>\n",
              "      <td>3275.997333</td>\n",
              "      <td>173.240655</td>\n",
              "      <td>10.093731</td>\n",
              "      <td>3.351712</td>\n",
              "      <td>0.440199</td>\n",
              "      <td>22.185292</td>\n",
              "      <td>...</td>\n",
              "      <td>0.401373</td>\n",
              "      <td>0.410577</td>\n",
              "      <td>0.493124</td>\n",
              "      <td>0.367950</td>\n",
              "      <td>0.359594</td>\n",
              "      <td>0.370647</td>\n",
              "      <td>0.371536</td>\n",
              "      <td>0.376774</td>\n",
              "      <td>0.389169</td>\n",
              "      <td>0.174304</td>\n",
              "    </tr>\n",
              "    <tr>\n",
              "      <th>min</th>\n",
              "      <td>1.000000</td>\n",
              "      <td>0.070000</td>\n",
              "      <td>2.900000</td>\n",
              "      <td>7.000000</td>\n",
              "      <td>0.000000</td>\n",
              "      <td>0.000000</td>\n",
              "      <td>0.000000</td>\n",
              "      <td>0.000000</td>\n",
              "      <td>0.000000</td>\n",
              "      <td>2.000000</td>\n",
              "      <td>...</td>\n",
              "      <td>0.000000</td>\n",
              "      <td>0.000000</td>\n",
              "      <td>0.000000</td>\n",
              "      <td>0.000000</td>\n",
              "      <td>0.000000</td>\n",
              "      <td>0.000000</td>\n",
              "      <td>0.000000</td>\n",
              "      <td>0.000000</td>\n",
              "      <td>0.000000</td>\n",
              "      <td>0.233705</td>\n",
              "    </tr>\n",
              "    <tr>\n",
              "      <th>25%</th>\n",
              "      <td>3.000000</td>\n",
              "      <td>0.700000</td>\n",
              "      <td>3.940000</td>\n",
              "      <td>770.500000</td>\n",
              "      <td>1440.000000</td>\n",
              "      <td>0.000000</td>\n",
              "      <td>0.000000</td>\n",
              "      <td>0.000000</td>\n",
              "      <td>0.000000</td>\n",
              "      <td>9.000000</td>\n",
              "      <td>...</td>\n",
              "      <td>0.000000</td>\n",
              "      <td>0.000000</td>\n",
              "      <td>0.000000</td>\n",
              "      <td>0.000000</td>\n",
              "      <td>0.000000</td>\n",
              "      <td>0.000000</td>\n",
              "      <td>0.000000</td>\n",
              "      <td>0.000000</td>\n",
              "      <td>0.000000</td>\n",
              "      <td>0.651515</td>\n",
              "    </tr>\n",
              "    <tr>\n",
              "      <th>50%</th>\n",
              "      <td>7.000000</td>\n",
              "      <td>0.750000</td>\n",
              "      <td>15.260000</td>\n",
              "      <td>1039.000000</td>\n",
              "      <td>4080.000000</td>\n",
              "      <td>0.000000</td>\n",
              "      <td>0.000000</td>\n",
              "      <td>0.000000</td>\n",
              "      <td>0.000000</td>\n",
              "      <td>34.000000</td>\n",
              "      <td>...</td>\n",
              "      <td>0.000000</td>\n",
              "      <td>0.000000</td>\n",
              "      <td>1.000000</td>\n",
              "      <td>0.000000</td>\n",
              "      <td>0.000000</td>\n",
              "      <td>0.000000</td>\n",
              "      <td>0.000000</td>\n",
              "      <td>0.000000</td>\n",
              "      <td>0.000000</td>\n",
              "      <td>0.773333</td>\n",
              "    </tr>\n",
              "    <tr>\n",
              "      <th>75%</th>\n",
              "      <td>9.000000</td>\n",
              "      <td>0.800000</td>\n",
              "      <td>24.260000</td>\n",
              "      <td>1254.750000</td>\n",
              "      <td>6900.000000</td>\n",
              "      <td>50.000000</td>\n",
              "      <td>0.000000</td>\n",
              "      <td>0.000000</td>\n",
              "      <td>0.000000</td>\n",
              "      <td>57.000000</td>\n",
              "      <td>...</td>\n",
              "      <td>0.000000</td>\n",
              "      <td>0.000000</td>\n",
              "      <td>1.000000</td>\n",
              "      <td>0.000000</td>\n",
              "      <td>0.000000</td>\n",
              "      <td>0.000000</td>\n",
              "      <td>0.000000</td>\n",
              "      <td>0.000000</td>\n",
              "      <td>0.000000</td>\n",
              "      <td>0.850170</td>\n",
              "    </tr>\n",
              "    <tr>\n",
              "      <th>max</th>\n",
              "      <td>12.000000</td>\n",
              "      <td>0.800000</td>\n",
              "      <td>54.560000</td>\n",
              "      <td>23122.000000</td>\n",
              "      <td>15120.000000</td>\n",
              "      <td>3600.000000</td>\n",
              "      <td>270.000000</td>\n",
              "      <td>45.000000</td>\n",
              "      <td>2.000000</td>\n",
              "      <td>89.000000</td>\n",
              "      <td>...</td>\n",
              "      <td>1.000000</td>\n",
              "      <td>1.000000</td>\n",
              "      <td>1.000000</td>\n",
              "      <td>1.000000</td>\n",
              "      <td>1.000000</td>\n",
              "      <td>1.000000</td>\n",
              "      <td>1.000000</td>\n",
              "      <td>1.000000</td>\n",
              "      <td>1.000000</td>\n",
              "      <td>1.108125</td>\n",
              "    </tr>\n",
              "  </tbody>\n",
              "</table>\n",
              "<p>8 rows × 26 columns</p>\n",
              "</div>"
            ],
            "text/plain": [
              "              team  targeted_productivity          smv           wip  \\\n",
              "count  1017.000000            1017.000000  1017.000000    594.000000   \n",
              "mean      6.443461               0.730747    15.150492   1183.183502   \n",
              "std       3.472473               0.097384    10.946096   1793.836719   \n",
              "min       1.000000               0.070000     2.900000      7.000000   \n",
              "25%       3.000000               0.700000     3.940000    770.500000   \n",
              "50%       7.000000               0.750000    15.260000   1039.000000   \n",
              "75%       9.000000               0.800000    24.260000   1254.750000   \n",
              "max      12.000000               0.800000    54.560000  23122.000000   \n",
              "\n",
              "          over_time    incentive    idle_time     idle_men  \\\n",
              "count   1017.000000  1017.000000  1017.000000  1017.000000   \n",
              "mean    4532.940020    40.689282     0.564405     0.398230   \n",
              "std     3275.997333   173.240655    10.093731     3.351712   \n",
              "min        0.000000     0.000000     0.000000     0.000000   \n",
              "25%     1440.000000     0.000000     0.000000     0.000000   \n",
              "50%     4080.000000     0.000000     0.000000     0.000000   \n",
              "75%     6900.000000    50.000000     0.000000     0.000000   \n",
              "max    15120.000000  3600.000000   270.000000    45.000000   \n",
              "\n",
              "       no_of_style_change  no_of_workers  ...  department_finishing  \\\n",
              "count         1017.000000    1017.000000  ...           1017.000000   \n",
              "mean             0.160275      34.846116  ...              0.201573   \n",
              "std              0.440199      22.185292  ...              0.401373   \n",
              "min              0.000000       2.000000  ...              0.000000   \n",
              "25%              0.000000       9.000000  ...              0.000000   \n",
              "50%              0.000000      34.000000  ...              0.000000   \n",
              "75%              0.000000      57.000000  ...              0.000000   \n",
              "max              2.000000      89.000000  ...              1.000000   \n",
              "\n",
              "       department_finishing   department_sweing   day_Monday  day_Saturday  \\\n",
              "count            1017.000000        1017.000000  1017.000000   1017.000000   \n",
              "mean                0.214356           0.584071     0.161259      0.152409   \n",
              "std                 0.410577           0.493124     0.367950      0.359594   \n",
              "min                 0.000000           0.000000     0.000000      0.000000   \n",
              "25%                 0.000000           0.000000     0.000000      0.000000   \n",
              "50%                 0.000000           1.000000     0.000000      0.000000   \n",
              "75%                 0.000000           1.000000     0.000000      0.000000   \n",
              "max                 1.000000           1.000000     1.000000      1.000000   \n",
              "\n",
              "        day_Sunday  day_Thursday  day_Tuesday  day_Wednesday  \\\n",
              "count  1017.000000   1017.000000  1017.000000    1017.000000   \n",
              "mean      0.164208      0.165192     0.171091       0.185841   \n",
              "std       0.370647      0.371536     0.376774       0.389169   \n",
              "min       0.000000      0.000000     0.000000       0.000000   \n",
              "25%       0.000000      0.000000     0.000000       0.000000   \n",
              "50%       0.000000      0.000000     0.000000       0.000000   \n",
              "75%       0.000000      0.000000     0.000000       0.000000   \n",
              "max       1.000000      1.000000     1.000000       1.000000   \n",
              "\n",
              "       actual_productivity  \n",
              "count          1017.000000  \n",
              "mean              0.736509  \n",
              "std               0.174304  \n",
              "min               0.233705  \n",
              "25%               0.651515  \n",
              "50%               0.773333  \n",
              "75%               0.850170  \n",
              "max               1.108125  \n",
              "\n",
              "[8 rows x 26 columns]"
            ]
          },
          "execution_count": 6,
          "metadata": {},
          "output_type": "execute_result"
        }
      ],
      "source": [
        "df.describe()"
      ]
    },
    {
      "cell_type": "code",
      "execution_count": null,
      "metadata": {
        "execution": {
          "iopub.execute_input": "2022-12-21T06:27:52.659450Z",
          "iopub.status.busy": "2022-12-21T06:27:52.658707Z",
          "iopub.status.idle": "2022-12-21T06:27:52.688829Z",
          "shell.execute_reply": "2022-12-21T06:27:52.686514Z",
          "shell.execute_reply.started": "2022-12-21T06:27:52.659411Z"
        },
        "id": "_pasroxHj-Cq",
        "outputId": "965f9c5a-1669-4e3a-a822-f9468715ffdd"
      },
      "outputs": [
        {
          "data": {
            "text/html": [
              "<div>\n",
              "<style scoped>\n",
              "    .dataframe tbody tr th:only-of-type {\n",
              "        vertical-align: middle;\n",
              "    }\n",
              "\n",
              "    .dataframe tbody tr th {\n",
              "        vertical-align: top;\n",
              "    }\n",
              "\n",
              "    .dataframe thead th {\n",
              "        text-align: right;\n",
              "    }\n",
              "</style>\n",
              "<table border=\"1\" class=\"dataframe\">\n",
              "  <thead>\n",
              "    <tr style=\"text-align: right;\">\n",
              "      <th></th>\n",
              "      <th>team</th>\n",
              "      <th>targeted_productivity</th>\n",
              "      <th>smv</th>\n",
              "      <th>wip</th>\n",
              "      <th>over_time</th>\n",
              "      <th>incentive</th>\n",
              "      <th>idle_time</th>\n",
              "      <th>idle_men</th>\n",
              "      <th>no_of_style_change</th>\n",
              "      <th>no_of_workers</th>\n",
              "      <th>...</th>\n",
              "      <th>department_finishing</th>\n",
              "      <th>department_finishing</th>\n",
              "      <th>department_sweing</th>\n",
              "      <th>day_Monday</th>\n",
              "      <th>day_Saturday</th>\n",
              "      <th>day_Sunday</th>\n",
              "      <th>day_Thursday</th>\n",
              "      <th>day_Tuesday</th>\n",
              "      <th>day_Wednesday</th>\n",
              "      <th>actual_productivity</th>\n",
              "    </tr>\n",
              "  </thead>\n",
              "  <tbody>\n",
              "    <tr>\n",
              "      <th>0</th>\n",
              "      <td>9</td>\n",
              "      <td>0.75</td>\n",
              "      <td>3.94</td>\n",
              "      <td>NaN</td>\n",
              "      <td>960</td>\n",
              "      <td>0</td>\n",
              "      <td>0.0</td>\n",
              "      <td>0</td>\n",
              "      <td>0</td>\n",
              "      <td>8.0</td>\n",
              "      <td>...</td>\n",
              "      <td>1</td>\n",
              "      <td>0</td>\n",
              "      <td>0</td>\n",
              "      <td>0</td>\n",
              "      <td>0</td>\n",
              "      <td>0</td>\n",
              "      <td>0</td>\n",
              "      <td>0</td>\n",
              "      <td>1</td>\n",
              "      <td>0.755167</td>\n",
              "    </tr>\n",
              "    <tr>\n",
              "      <th>1</th>\n",
              "      <td>7</td>\n",
              "      <td>0.65</td>\n",
              "      <td>30.10</td>\n",
              "      <td>909.0</td>\n",
              "      <td>7080</td>\n",
              "      <td>0</td>\n",
              "      <td>0.0</td>\n",
              "      <td>0</td>\n",
              "      <td>1</td>\n",
              "      <td>59.0</td>\n",
              "      <td>...</td>\n",
              "      <td>0</td>\n",
              "      <td>0</td>\n",
              "      <td>1</td>\n",
              "      <td>0</td>\n",
              "      <td>0</td>\n",
              "      <td>0</td>\n",
              "      <td>1</td>\n",
              "      <td>0</td>\n",
              "      <td>0</td>\n",
              "      <td>0.535678</td>\n",
              "    </tr>\n",
              "    <tr>\n",
              "      <th>2</th>\n",
              "      <td>3</td>\n",
              "      <td>0.80</td>\n",
              "      <td>4.15</td>\n",
              "      <td>NaN</td>\n",
              "      <td>1440</td>\n",
              "      <td>0</td>\n",
              "      <td>0.0</td>\n",
              "      <td>0</td>\n",
              "      <td>0</td>\n",
              "      <td>7.0</td>\n",
              "      <td>...</td>\n",
              "      <td>0</td>\n",
              "      <td>1</td>\n",
              "      <td>0</td>\n",
              "      <td>0</td>\n",
              "      <td>0</td>\n",
              "      <td>0</td>\n",
              "      <td>0</td>\n",
              "      <td>0</td>\n",
              "      <td>1</td>\n",
              "      <td>0.820833</td>\n",
              "    </tr>\n",
              "    <tr>\n",
              "      <th>3</th>\n",
              "      <td>1</td>\n",
              "      <td>0.65</td>\n",
              "      <td>22.53</td>\n",
              "      <td>762.0</td>\n",
              "      <td>5040</td>\n",
              "      <td>0</td>\n",
              "      <td>0.0</td>\n",
              "      <td>0</td>\n",
              "      <td>1</td>\n",
              "      <td>42.0</td>\n",
              "      <td>...</td>\n",
              "      <td>0</td>\n",
              "      <td>0</td>\n",
              "      <td>1</td>\n",
              "      <td>0</td>\n",
              "      <td>0</td>\n",
              "      <td>0</td>\n",
              "      <td>0</td>\n",
              "      <td>0</td>\n",
              "      <td>1</td>\n",
              "      <td>0.581131</td>\n",
              "    </tr>\n",
              "    <tr>\n",
              "      <th>4</th>\n",
              "      <td>4</td>\n",
              "      <td>0.70</td>\n",
              "      <td>30.10</td>\n",
              "      <td>767.0</td>\n",
              "      <td>3300</td>\n",
              "      <td>50</td>\n",
              "      <td>0.0</td>\n",
              "      <td>0</td>\n",
              "      <td>1</td>\n",
              "      <td>57.0</td>\n",
              "      <td>...</td>\n",
              "      <td>0</td>\n",
              "      <td>0</td>\n",
              "      <td>1</td>\n",
              "      <td>1</td>\n",
              "      <td>0</td>\n",
              "      <td>0</td>\n",
              "      <td>0</td>\n",
              "      <td>0</td>\n",
              "      <td>0</td>\n",
              "      <td>0.790003</td>\n",
              "    </tr>\n",
              "  </tbody>\n",
              "</table>\n",
              "<p>5 rows × 26 columns</p>\n",
              "</div>"
            ],
            "text/plain": [
              "   team  targeted_productivity    smv    wip  over_time  incentive  idle_time  \\\n",
              "0     9                   0.75   3.94    NaN        960          0        0.0   \n",
              "1     7                   0.65  30.10  909.0       7080          0        0.0   \n",
              "2     3                   0.80   4.15    NaN       1440          0        0.0   \n",
              "3     1                   0.65  22.53  762.0       5040          0        0.0   \n",
              "4     4                   0.70  30.10  767.0       3300         50        0.0   \n",
              "\n",
              "   idle_men  no_of_style_change  no_of_workers  ...  department_finishing  \\\n",
              "0         0                   0            8.0  ...                     1   \n",
              "1         0                   1           59.0  ...                     0   \n",
              "2         0                   0            7.0  ...                     0   \n",
              "3         0                   1           42.0  ...                     0   \n",
              "4         0                   1           57.0  ...                     0   \n",
              "\n",
              "   department_finishing   department_sweing  day_Monday  day_Saturday  \\\n",
              "0                      0                  0           0             0   \n",
              "1                      0                  1           0             0   \n",
              "2                      1                  0           0             0   \n",
              "3                      0                  1           0             0   \n",
              "4                      0                  1           1             0   \n",
              "\n",
              "   day_Sunday  day_Thursday  day_Tuesday  day_Wednesday  actual_productivity  \n",
              "0           0             0            0              1             0.755167  \n",
              "1           0             1            0              0             0.535678  \n",
              "2           0             0            0              1             0.820833  \n",
              "3           0             0            0              1             0.581131  \n",
              "4           0             0            0              0             0.790003  \n",
              "\n",
              "[5 rows x 26 columns]"
            ]
          },
          "execution_count": 7,
          "metadata": {},
          "output_type": "execute_result"
        }
      ],
      "source": [
        "df.head()"
      ]
    },
    {
      "cell_type": "markdown",
      "metadata": {
        "id": "UPggfgRfj-Cr"
      },
      "source": [
        "### Dealing with NaN values\n",
        "We can see that a column named 'wip' has many Nan values, from the documentation of dataset, wip means work in progress i.e number of unfinished items. So its safe to assume it can be filled with 0."
      ]
    },
    {
      "cell_type": "code",
      "execution_count": null,
      "metadata": {
        "execution": {
          "iopub.execute_input": "2022-12-21T06:27:54.725432Z",
          "iopub.status.busy": "2022-12-21T06:27:54.725045Z",
          "iopub.status.idle": "2022-12-21T06:27:54.731413Z",
          "shell.execute_reply": "2022-12-21T06:27:54.730366Z",
          "shell.execute_reply.started": "2022-12-21T06:27:54.725399Z"
        },
        "id": "wgRR-toOj-Cs"
      },
      "outputs": [],
      "source": [
        "df['wip'] = df['wip'].fillna(0)"
      ]
    },
    {
      "cell_type": "code",
      "execution_count": null,
      "metadata": {
        "execution": {
          "iopub.execute_input": "2022-12-21T06:27:55.460200Z",
          "iopub.status.busy": "2022-12-21T06:27:55.459805Z",
          "iopub.status.idle": "2022-12-21T06:27:55.486860Z",
          "shell.execute_reply": "2022-12-21T06:27:55.485797Z",
          "shell.execute_reply.started": "2022-12-21T06:27:55.460166Z"
        },
        "id": "lj-Xa29Ij-Ct",
        "outputId": "44996f2d-09de-47a9-cbf1-845afa27820c"
      },
      "outputs": [
        {
          "data": {
            "text/html": [
              "<div>\n",
              "<style scoped>\n",
              "    .dataframe tbody tr th:only-of-type {\n",
              "        vertical-align: middle;\n",
              "    }\n",
              "\n",
              "    .dataframe tbody tr th {\n",
              "        vertical-align: top;\n",
              "    }\n",
              "\n",
              "    .dataframe thead th {\n",
              "        text-align: right;\n",
              "    }\n",
              "</style>\n",
              "<table border=\"1\" class=\"dataframe\">\n",
              "  <thead>\n",
              "    <tr style=\"text-align: right;\">\n",
              "      <th></th>\n",
              "      <th>team</th>\n",
              "      <th>targeted_productivity</th>\n",
              "      <th>smv</th>\n",
              "      <th>wip</th>\n",
              "      <th>over_time</th>\n",
              "      <th>incentive</th>\n",
              "      <th>idle_time</th>\n",
              "      <th>idle_men</th>\n",
              "      <th>no_of_style_change</th>\n",
              "      <th>no_of_workers</th>\n",
              "      <th>...</th>\n",
              "      <th>department_finishing</th>\n",
              "      <th>department_finishing</th>\n",
              "      <th>department_sweing</th>\n",
              "      <th>day_Monday</th>\n",
              "      <th>day_Saturday</th>\n",
              "      <th>day_Sunday</th>\n",
              "      <th>day_Thursday</th>\n",
              "      <th>day_Tuesday</th>\n",
              "      <th>day_Wednesday</th>\n",
              "      <th>actual_productivity</th>\n",
              "    </tr>\n",
              "  </thead>\n",
              "  <tbody>\n",
              "    <tr>\n",
              "      <th>0</th>\n",
              "      <td>9</td>\n",
              "      <td>0.75</td>\n",
              "      <td>3.94</td>\n",
              "      <td>0.0</td>\n",
              "      <td>960</td>\n",
              "      <td>0</td>\n",
              "      <td>0.0</td>\n",
              "      <td>0</td>\n",
              "      <td>0</td>\n",
              "      <td>8.0</td>\n",
              "      <td>...</td>\n",
              "      <td>1</td>\n",
              "      <td>0</td>\n",
              "      <td>0</td>\n",
              "      <td>0</td>\n",
              "      <td>0</td>\n",
              "      <td>0</td>\n",
              "      <td>0</td>\n",
              "      <td>0</td>\n",
              "      <td>1</td>\n",
              "      <td>0.755167</td>\n",
              "    </tr>\n",
              "    <tr>\n",
              "      <th>1</th>\n",
              "      <td>7</td>\n",
              "      <td>0.65</td>\n",
              "      <td>30.10</td>\n",
              "      <td>909.0</td>\n",
              "      <td>7080</td>\n",
              "      <td>0</td>\n",
              "      <td>0.0</td>\n",
              "      <td>0</td>\n",
              "      <td>1</td>\n",
              "      <td>59.0</td>\n",
              "      <td>...</td>\n",
              "      <td>0</td>\n",
              "      <td>0</td>\n",
              "      <td>1</td>\n",
              "      <td>0</td>\n",
              "      <td>0</td>\n",
              "      <td>0</td>\n",
              "      <td>1</td>\n",
              "      <td>0</td>\n",
              "      <td>0</td>\n",
              "      <td>0.535678</td>\n",
              "    </tr>\n",
              "    <tr>\n",
              "      <th>2</th>\n",
              "      <td>3</td>\n",
              "      <td>0.80</td>\n",
              "      <td>4.15</td>\n",
              "      <td>0.0</td>\n",
              "      <td>1440</td>\n",
              "      <td>0</td>\n",
              "      <td>0.0</td>\n",
              "      <td>0</td>\n",
              "      <td>0</td>\n",
              "      <td>7.0</td>\n",
              "      <td>...</td>\n",
              "      <td>0</td>\n",
              "      <td>1</td>\n",
              "      <td>0</td>\n",
              "      <td>0</td>\n",
              "      <td>0</td>\n",
              "      <td>0</td>\n",
              "      <td>0</td>\n",
              "      <td>0</td>\n",
              "      <td>1</td>\n",
              "      <td>0.820833</td>\n",
              "    </tr>\n",
              "    <tr>\n",
              "      <th>3</th>\n",
              "      <td>1</td>\n",
              "      <td>0.65</td>\n",
              "      <td>22.53</td>\n",
              "      <td>762.0</td>\n",
              "      <td>5040</td>\n",
              "      <td>0</td>\n",
              "      <td>0.0</td>\n",
              "      <td>0</td>\n",
              "      <td>1</td>\n",
              "      <td>42.0</td>\n",
              "      <td>...</td>\n",
              "      <td>0</td>\n",
              "      <td>0</td>\n",
              "      <td>1</td>\n",
              "      <td>0</td>\n",
              "      <td>0</td>\n",
              "      <td>0</td>\n",
              "      <td>0</td>\n",
              "      <td>0</td>\n",
              "      <td>1</td>\n",
              "      <td>0.581131</td>\n",
              "    </tr>\n",
              "    <tr>\n",
              "      <th>4</th>\n",
              "      <td>4</td>\n",
              "      <td>0.70</td>\n",
              "      <td>30.10</td>\n",
              "      <td>767.0</td>\n",
              "      <td>3300</td>\n",
              "      <td>50</td>\n",
              "      <td>0.0</td>\n",
              "      <td>0</td>\n",
              "      <td>1</td>\n",
              "      <td>57.0</td>\n",
              "      <td>...</td>\n",
              "      <td>0</td>\n",
              "      <td>0</td>\n",
              "      <td>1</td>\n",
              "      <td>1</td>\n",
              "      <td>0</td>\n",
              "      <td>0</td>\n",
              "      <td>0</td>\n",
              "      <td>0</td>\n",
              "      <td>0</td>\n",
              "      <td>0.790003</td>\n",
              "    </tr>\n",
              "  </tbody>\n",
              "</table>\n",
              "<p>5 rows × 26 columns</p>\n",
              "</div>"
            ],
            "text/plain": [
              "   team  targeted_productivity    smv    wip  over_time  incentive  idle_time  \\\n",
              "0     9                   0.75   3.94    0.0        960          0        0.0   \n",
              "1     7                   0.65  30.10  909.0       7080          0        0.0   \n",
              "2     3                   0.80   4.15    0.0       1440          0        0.0   \n",
              "3     1                   0.65  22.53  762.0       5040          0        0.0   \n",
              "4     4                   0.70  30.10  767.0       3300         50        0.0   \n",
              "\n",
              "   idle_men  no_of_style_change  no_of_workers  ...  department_finishing  \\\n",
              "0         0                   0            8.0  ...                     1   \n",
              "1         0                   1           59.0  ...                     0   \n",
              "2         0                   0            7.0  ...                     0   \n",
              "3         0                   1           42.0  ...                     0   \n",
              "4         0                   1           57.0  ...                     0   \n",
              "\n",
              "   department_finishing   department_sweing  day_Monday  day_Saturday  \\\n",
              "0                      0                  0           0             0   \n",
              "1                      0                  1           0             0   \n",
              "2                      1                  0           0             0   \n",
              "3                      0                  1           0             0   \n",
              "4                      0                  1           1             0   \n",
              "\n",
              "   day_Sunday  day_Thursday  day_Tuesday  day_Wednesday  actual_productivity  \n",
              "0           0             0            0              1             0.755167  \n",
              "1           0             1            0              0             0.535678  \n",
              "2           0             0            0              1             0.820833  \n",
              "3           0             0            0              1             0.581131  \n",
              "4           0             0            0              0             0.790003  \n",
              "\n",
              "[5 rows x 26 columns]"
            ]
          },
          "execution_count": 9,
          "metadata": {},
          "output_type": "execute_result"
        }
      ],
      "source": [
        "df.head()"
      ]
    },
    {
      "cell_type": "markdown",
      "metadata": {
        "id": "x_5L0m9Dj-Cv"
      },
      "source": [
        "## Getting general idea of data"
      ]
    },
    {
      "cell_type": "code",
      "execution_count": null,
      "metadata": {
        "execution": {
          "iopub.execute_input": "2022-12-21T06:27:58.274143Z",
          "iopub.status.busy": "2022-12-21T06:27:58.273733Z",
          "iopub.status.idle": "2022-12-21T06:27:58.279905Z",
          "shell.execute_reply": "2022-12-21T06:27:58.278435Z",
          "shell.execute_reply.started": "2022-12-21T06:27:58.274108Z"
        },
        "id": "C_AicTAZj-Cw"
      },
      "outputs": [],
      "source": [
        "num_cols=['no_of_workers','no_of_style_change','idle_men','idle_time','incentive','over_time','wip','smv','targeted_productivity','actual_productivity']"
      ]
    },
    {
      "cell_type": "code",
      "execution_count": null,
      "metadata": {
        "execution": {
          "iopub.execute_input": "2022-12-21T06:27:59.164664Z",
          "iopub.status.busy": "2022-12-21T06:27:59.163721Z",
          "iopub.status.idle": "2022-12-21T06:28:00.096900Z",
          "shell.execute_reply": "2022-12-21T06:28:00.095680Z",
          "shell.execute_reply.started": "2022-12-21T06:27:59.164623Z"
        },
        "id": "hQ_IGiEbj-Cx",
        "outputId": "cd33f735-4662-4697-db15-c14f0a4da003"
      },
      "outputs": [
        {
          "data": {
            "text/plain": [
              "<AxesSubplot:>"
            ]
          },
          "execution_count": 11,
          "metadata": {},
          "output_type": "execute_result"
        },
        {
          "data": {
            "image/png": "[encoded data removed]",
            "text/plain": [
              "<Figure size 864x864 with 2 Axes>"
            ]
          },
          "metadata": {
            "needs_background": "light"
          },
          "output_type": "display_data"
        }
      ],
      "source": [
        "plt.figure(figsize=(12,12))\n",
        "sns.heatmap(df[num_cols].corr(),annot=True)"
      ]
    },
    {
      "cell_type": "code",
      "execution_count": null,
      "metadata": {
        "execution": {
          "iopub.execute_input": "2022-12-21T06:28:02.843497Z",
          "iopub.status.busy": "2022-12-21T06:28:02.842794Z",
          "iopub.status.idle": "2022-12-21T06:28:03.328378Z",
          "shell.execute_reply": "2022-12-21T06:28:03.327105Z",
          "shell.execute_reply.started": "2022-12-21T06:28:02.843445Z"
        },
        "id": "jas4r9aij-Cy",
        "outputId": "9cb21a1d-3764-4a28-c795-a14c2d7cb3b3"
      },
      "outputs": [
        {
          "data": {
            "text/plain": [
              "<AxesSubplot:xlabel='targeted_productivity', ylabel='actual_productivity'>"
            ]
          },
          "execution_count": 12,
          "metadata": {},
          "output_type": "execute_result"
        },
        {
          "data": {
            "image/png": "[encoded data removed]",
            "text/plain": [
              "<Figure size 432x288 with 1 Axes>"
            ]
          },
          "metadata": {
            "needs_background": "light"
          },
          "output_type": "display_data"
        }
      ],
      "source": [
        "sns.scatterplot(x='targeted_productivity',  y='actual_productivity',data=df, hue='team', palette='viridis', alpha=0.2)"
      ]
    },
    {
      "cell_type": "code",
      "execution_count": null,
      "metadata": {
        "execution": {
          "iopub.execute_input": "2022-12-21T06:28:03.647753Z",
          "iopub.status.busy": "2022-12-21T06:28:03.647077Z",
          "iopub.status.idle": "2022-12-21T06:28:04.084025Z",
          "shell.execute_reply": "2022-12-21T06:28:04.082546Z",
          "shell.execute_reply.started": "2022-12-21T06:28:03.647712Z"
        },
        "id": "Y4rqIM3Gj-Cz",
        "outputId": "d217ace7-4aa5-4fb1-8a75-32b3263242da"
      },
      "outputs": [
        {
          "data": {
            "text/plain": [
              "<AxesSubplot:xlabel='no_of_workers', ylabel='actual_productivity'>"
            ]
          },
          "execution_count": 13,
          "metadata": {},
          "output_type": "execute_result"
        },
        {
          "data": {
            "image/png": "[encoded data removed]",
            "text/plain": [
              "<Figure size 432x288 with 1 Axes>"
            ]
          },
          "metadata": {
            "needs_background": "light"
          },
          "output_type": "display_data"
        }
      ],
      "source": [
        "sns.scatterplot(x='no_of_workers',  y='actual_productivity',data=df, hue='team', palette='viridis', alpha=0.2)"
      ]
    },
    {
      "cell_type": "code",
      "execution_count": null,
      "metadata": {
        "execution": {
          "iopub.execute_input": "2022-12-21T06:28:04.748977Z",
          "iopub.status.busy": "2022-12-21T06:28:04.748578Z",
          "iopub.status.idle": "2022-12-21T06:28:05.192229Z",
          "shell.execute_reply": "2022-12-21T06:28:05.190909Z",
          "shell.execute_reply.started": "2022-12-21T06:28:04.748945Z"
        },
        "id": "hDRxq9N9j-C0",
        "outputId": "3fc712b0-c78b-48df-ca3c-e26539ab9620"
      },
      "outputs": [
        {
          "data": {
            "text/plain": [
              "<AxesSubplot:xlabel='wip', ylabel='actual_productivity'>"
            ]
          },
          "execution_count": 14,
          "metadata": {},
          "output_type": "execute_result"
        },
        {
          "data": {
            "image/png": "[encoded data removed]",
            "text/plain": [
              "<Figure size 432x288 with 1 Axes>"
            ]
          },
          "metadata": {
            "needs_background": "light"
          },
          "output_type": "display_data"
        }
      ],
      "source": [
        "sns.scatterplot(x='wip',  y='actual_productivity',data=df, hue='team', palette='viridis', alpha=0.6)"
      ]
    },
    {
      "cell_type": "markdown",
      "metadata": {
        "id": "59vXhCG8j-C1"
      },
      "source": [
        "### Initial Asessments\n",
        "Plotting a correlation matrix and some scatterplots, we can see that there seems to be no apparent linear/polynomial pattern with singular feature. As many of the features we are dealing with are discrete, algebra based regression models may or may not perform as well as tree based regression methods."
      ]
    },
    {
      "cell_type": "code",
      "execution_count": null,
      "metadata": {
        "execution": {
          "iopub.execute_input": "2022-12-21T06:28:29.346662Z",
          "iopub.status.busy": "2022-12-21T06:28:29.346199Z",
          "iopub.status.idle": "2022-12-21T06:28:29.353647Z",
          "shell.execute_reply": "2022-12-21T06:28:29.352055Z",
          "shell.execute_reply.started": "2022-12-21T06:28:29.346625Z"
        },
        "id": "HSZFdQMXj-C1"
      },
      "outputs": [],
      "source": [
        "from sklearn.model_selection import train_test_split\n",
        "from sklearn.metrics import mean_absolute_error,mean_squared_error\n",
        "from sklearn.model_selection import GridSearchCV\n",
        "from sklearn.preprocessing import StandardScaler"
      ]
    },
    {
      "cell_type": "code",
      "execution_count": null,
      "metadata": {
        "execution": {
          "iopub.execute_input": "2022-12-21T06:28:10.143995Z",
          "iopub.status.busy": "2022-12-21T06:28:10.143608Z",
          "iopub.status.idle": "2022-12-21T06:28:10.154180Z",
          "shell.execute_reply": "2022-12-21T06:28:10.153126Z",
          "shell.execute_reply.started": "2022-12-21T06:28:10.143963Z"
        },
        "id": "tku1BvCRj-C3"
      },
      "outputs": [],
      "source": [
        "# Separating Label\n",
        "X = df.drop('actual_productivity',axis=1)\n",
        "y = df['actual_productivity']\n",
        "X_train, X_test, y_train, y_test = train_test_split(X, y, test_size=0.3, random_state=101)"
      ]
    },
    {
      "cell_type": "markdown",
      "metadata": {
        "id": "WIS6rjKpj-C4"
      },
      "source": [
        "# Polynomial Regression"
      ]
    },
    {
      "cell_type": "code",
      "execution_count": null,
      "metadata": {
        "execution": {
          "iopub.execute_input": "2022-12-21T05:57:47.720015Z",
          "iopub.status.busy": "2022-12-21T05:57:47.719634Z",
          "iopub.status.idle": "2022-12-21T06:00:42.870867Z",
          "shell.execute_reply": "2022-12-21T06:00:42.869029Z",
          "shell.execute_reply.started": "2022-12-21T05:57:47.719982Z"
        },
        "id": "Y7fh2aQUj-C4"
      },
      "outputs": [],
      "source": [
        "from sklearn.preprocessing import PolynomialFeatures\n",
        "from sklearn.linear_model import LinearRegression\n",
        "scaler = StandardScaler()\n",
        "\n",
        "# TRAINING ERROR PER DEGREE\n",
        "train_rmse_errors = []\n",
        "# TEST ERROR PER DEGREE\n",
        "test_rmse_errors = []\n",
        "\n",
        "for d in range(1,7):\n",
        "    # CREATE POLY DATA SET FOR DEGREE \"d\"\n",
        "    polynomial_converter = PolynomialFeatures(degree=d,include_bias=False)\n",
        "    poly_features = polynomial_converter.fit_transform(X)\n",
        "    \n",
        "    # SPLIT THIS NEW POLY DATA SET\n",
        "    X_train, X_test, y_train, y_test = train_test_split(poly_features, y, test_size=0.3, random_state=101)\n",
        "    \n",
        "    scaler.fit(X_train)\n",
        "    X_train = scaler.transform(X_train)\n",
        "    X_test = scaler.transform(X_test)\n",
        "    \n",
        "    # TRAIN ON THIS NEW POLY SET\n",
        "    model = LinearRegression(fit_intercept=True)\n",
        "    model.fit(X_train,y_train)\n",
        "    \n",
        "    # PREDICT ON BOTH TRAIN AND TEST\n",
        "    train_pred = model.predict(X_train)\n",
        "    test_pred = model.predict(X_test)\n",
        "    \n",
        "    # Calculate Errors\n",
        "    \n",
        "    # Errors on Train Set\n",
        "    train_RMSE = np.sqrt(mean_squared_error(y_train,train_pred))\n",
        "    \n",
        "    # Errors on Test Set\n",
        "    test_RMSE = np.sqrt(mean_squared_error(y_test,test_pred))\n",
        "\n",
        "    # Append errors to lists for plotting later\n",
        "    \n",
        "   \n",
        "    train_rmse_errors.append(train_RMSE)\n",
        "    test_rmse_errors.append(test_RMSE)"
      ]
    },
    {
      "cell_type": "code",
      "execution_count": null,
      "metadata": {
        "execution": {
          "iopub.execute_input": "2022-12-21T06:00:42.873877Z",
          "iopub.status.busy": "2022-12-21T06:00:42.873008Z",
          "iopub.status.idle": "2022-12-21T06:00:43.130923Z",
          "shell.execute_reply": "2022-12-21T06:00:43.129761Z",
          "shell.execute_reply.started": "2022-12-21T06:00:42.873828Z"
        },
        "id": "RIc-lKvDj-C6",
        "outputId": "02a21be2-677f-43ea-8c20-a3d23035bc59"
      },
      "outputs": [
        {
          "data": {
            "text/plain": [
              "<matplotlib.legend.Legend at 0x7f65cc309dd0>"
            ]
          },
          "execution_count": 18,
          "metadata": {},
          "output_type": "execute_result"
        },
        {
          "data": {
            "image/png": "[encoded data removed]",
            "text/plain": [
              "<Figure size 432x288 with 1 Axes>"
            ]
          },
          "metadata": {
            "needs_background": "light"
          },
          "output_type": "display_data"
        }
      ],
      "source": [
        "# Plotting errors\n",
        "plt.plot(range(1,7),train_rmse_errors,label='TRAIN')\n",
        "plt.plot(range(1,7),test_rmse_errors,label='TEST')\n",
        "plt.xlabel(\"Polynomial Complexity\")\n",
        "plt.ylabel(\"RMSE\")\n",
        "plt.ylim(0,10)\n",
        "plt.legend()"
      ]
    },
    {
      "cell_type": "code",
      "execution_count": null,
      "metadata": {
        "execution": {
          "iopub.execute_input": "2022-12-21T06:00:43.132571Z",
          "iopub.status.busy": "2022-12-21T06:00:43.132224Z",
          "iopub.status.idle": "2022-12-21T06:00:43.371598Z",
          "shell.execute_reply": "2022-12-21T06:00:43.370254Z",
          "shell.execute_reply.started": "2022-12-21T06:00:43.132528Z"
        },
        "id": "vE0Qc0Rnj-C6",
        "outputId": "ac1688f4-b538-4d74-e7a1-99d307f381b0"
      },
      "outputs": [
        {
          "data": {
            "text/plain": [
              "<matplotlib.legend.Legend at 0x7f65bf724850>"
            ]
          },
          "execution_count": 19,
          "metadata": {},
          "output_type": "execute_result"
        },
        {
          "data": {
            "image/png": "[encoded data removed]",
            "text/plain": [
              "<Figure size 432x288 with 1 Axes>"
            ]
          },
          "metadata": {
            "needs_background": "light"
          },
          "output_type": "display_data"
        }
      ],
      "source": [
        "# Plotting errors\n",
        "plt.plot(range(1,7),train_rmse_errors,label='TRAIN')\n",
        "plt.plot(range(1,7),test_rmse_errors,label='TEST')\n",
        "plt.xlabel(\"Polynomial Complexity\")\n",
        "plt.ylabel(\"RMSE\")\n",
        "plt.ylim(0,0.5)\n",
        "plt.legend()"
      ]
    },
    {
      "cell_type": "code",
      "execution_count": null,
      "metadata": {
        "execution": {
          "iopub.execute_input": "2022-12-21T06:00:43.375174Z",
          "iopub.status.busy": "2022-12-21T06:00:43.374732Z",
          "iopub.status.idle": "2022-12-21T06:00:43.382793Z",
          "shell.execute_reply": "2022-12-21T06:00:43.381628Z",
          "shell.execute_reply.started": "2022-12-21T06:00:43.375142Z"
        },
        "id": "nQKgjtVDj-C8",
        "outputId": "175e1153-62b8-4862-a604-0035207df870"
      },
      "outputs": [
        {
          "data": {
            "text/plain": [
              "0.14658074389524323"
            ]
          },
          "execution_count": 20,
          "metadata": {},
          "output_type": "execute_result"
        }
      ],
      "source": [
        "test_rmse_errors[0]"
      ]
    },
    {
      "cell_type": "markdown",
      "metadata": {
        "id": "7x1OpiIxj-C8"
      },
      "source": [
        "#### The minimum RMSE error we get from here is from linear regression i.e 0.146"
      ]
    },
    {
      "cell_type": "markdown",
      "metadata": {
        "id": "gOuzyRsRj-C8"
      },
      "source": [
        "# SVM Regression"
      ]
    },
    {
      "cell_type": "code",
      "execution_count": null,
      "metadata": {
        "execution": {
          "iopub.execute_input": "2022-12-21T06:28:34.137403Z",
          "iopub.status.busy": "2022-12-21T06:28:34.136937Z",
          "iopub.status.idle": "2022-12-21T06:29:51.246758Z",
          "shell.execute_reply": "2022-12-21T06:29:51.245529Z",
          "shell.execute_reply.started": "2022-12-21T06:28:34.137365Z"
        },
        "id": "DIAqddDMj-C9",
        "outputId": "9f66bc60-c6b8-4c88-80dd-8093aeb40e49"
      },
      "outputs": [
        {
          "data": {
            "text/plain": [
              "GridSearchCV(estimator=SVR(),\n",
              "             param_grid={'C': [0.001, 0.01, 0.1, 0.5, 1], 'degree': [2, 3, 4],\n",
              "                         'epsilon': [0, 0.01, 0.1, 0.5, 1, 2],\n",
              "                         'gamma': ['scale', 'auto'],\n",
              "                         'kernel': ['linear', 'rbf', 'poly']})"
            ]
          },
          "execution_count": 18,
          "metadata": {},
          "output_type": "execute_result"
        }
      ],
      "source": [
        "# SCALE DATA\n",
        "scaler = StandardScaler()\n",
        "scaler.fit(X_train)\n",
        "scaled_X_train = scaler.transform(X_train)\n",
        "scaled_X_test = scaler.transform(X_test)\n",
        "\n",
        "# SVM REGRESSION #\n",
        "from sklearn.svm import SVR,LinearSVR # SVM Regression\n",
        "from sklearn.metrics import mean_absolute_error,mean_squared_error\n",
        "param_g = {'C':[0.001,0.01,0.1,0.5,1],\n",
        "             'kernel':['linear','rbf','poly'],\n",
        "              'gamma':['scale','auto'],\n",
        "              'degree':[2,3,4],\n",
        "              'epsilon':[0,0.01,0.1,0.5,1,2]}\n",
        "svr = SVR()\n",
        "grid = GridSearchCV(svr,param_grid=param_g)\n",
        "grid.fit(scaled_X_train,y_train)"
      ]
    },
    {
      "cell_type": "code",
      "execution_count": null,
      "metadata": {
        "execution": {
          "iopub.execute_input": "2022-12-21T06:30:51.922445Z",
          "iopub.status.busy": "2022-12-21T06:30:51.921237Z",
          "iopub.status.idle": "2022-12-21T06:30:51.929054Z",
          "shell.execute_reply": "2022-12-21T06:30:51.928185Z",
          "shell.execute_reply.started": "2022-12-21T06:30:51.922400Z"
        },
        "id": "c0Pjz7fCj-C-",
        "outputId": "46a507e6-f3e7-4444-d700-52ff2dfec77e"
      },
      "outputs": [
        {
          "data": {
            "text/plain": [
              "{'C': 0.5, 'degree': 2, 'epsilon': 0.01, 'gamma': 'scale', 'kernel': 'rbf'}"
            ]
          },
          "execution_count": 19,
          "metadata": {},
          "output_type": "execute_result"
        }
      ],
      "source": [
        "grid.best_params_"
      ]
    },
    {
      "cell_type": "code",
      "execution_count": null,
      "metadata": {
        "execution": {
          "iopub.execute_input": "2022-12-21T06:30:52.908381Z",
          "iopub.status.busy": "2022-12-21T06:30:52.907105Z",
          "iopub.status.idle": "2022-12-21T06:30:52.932126Z",
          "shell.execute_reply": "2022-12-21T06:30:52.930837Z",
          "shell.execute_reply.started": "2022-12-21T06:30:52.908328Z"
        },
        "id": "y4l_WgThj-C_"
      },
      "outputs": [],
      "source": [
        "grid_preds = grid.predict(scaled_X_test)\n",
        "MAE=mean_absolute_error(y_test,grid_preds)\n",
        "MSE=np.sqrt(mean_squared_error(y_test,grid_preds))"
      ]
    },
    {
      "cell_type": "code",
      "execution_count": null,
      "metadata": {
        "execution": {
          "iopub.execute_input": "2022-12-21T06:30:54.394539Z",
          "iopub.status.busy": "2022-12-21T06:30:54.394088Z",
          "iopub.status.idle": "2022-12-21T06:30:54.401530Z",
          "shell.execute_reply": "2022-12-21T06:30:54.400313Z",
          "shell.execute_reply.started": "2022-12-21T06:30:54.394493Z"
        },
        "id": "IOcsRSvqj-DA",
        "outputId": "07e91944-3f04-45e4-ab8e-55d52f32152c"
      },
      "outputs": [
        {
          "data": {
            "text/plain": [
              "0.1461277025000012"
            ]
          },
          "execution_count": 21,
          "metadata": {},
          "output_type": "execute_result"
        }
      ],
      "source": [
        "MSE"
      ]
    },
    {
      "cell_type": "markdown",
      "metadata": {
        "id": "lBBKaBmOj-DA"
      },
      "source": [
        "### Inference\n",
        "Very Similar to linear Regression, with RMSE 0.146"
      ]
    },
    {
      "cell_type": "markdown",
      "metadata": {
        "id": "GKDioVewj-DB"
      },
      "source": [
        "# Random forest regresssor"
      ]
    },
    {
      "cell_type": "code",
      "execution_count": null,
      "metadata": {
        "execution": {
          "iopub.execute_input": "2022-12-21T06:31:00.159896Z",
          "iopub.status.busy": "2022-12-21T06:31:00.159498Z",
          "iopub.status.idle": "2022-12-21T06:31:00.283963Z",
          "shell.execute_reply": "2022-12-21T06:31:00.282542Z",
          "shell.execute_reply.started": "2022-12-21T06:31:00.159863Z"
        },
        "id": "4Vz7Ug1tj-DB"
      },
      "outputs": [],
      "source": [
        "from sklearn.ensemble import RandomForestRegressor"
      ]
    },
    {
      "cell_type": "code",
      "execution_count": null,
      "metadata": {
        "execution": {
          "iopub.execute_input": "2022-12-21T06:31:00.633805Z",
          "iopub.status.busy": "2022-12-21T06:31:00.632745Z",
          "iopub.status.idle": "2022-12-21T06:31:00.641016Z",
          "shell.execute_reply": "2022-12-21T06:31:00.640043Z",
          "shell.execute_reply.started": "2022-12-21T06:31:00.633755Z"
        },
        "id": "h1vkmJr_j-DC"
      },
      "outputs": [],
      "source": [
        "def run_model(model,X_train,y_train,X_test,y_test):\n",
        "    \n",
        "    # Fit Model\n",
        "    model.fit(X_train,y_train)\n",
        "    \n",
        "    # Get Metrics\n",
        "    \n",
        "    preds = model.predict(X_test)\n",
        "    \n",
        "    rmse = np.sqrt(mean_squared_error(y_test,preds))\n",
        "    print(f'RMSE : {rmse}')"
      ]
    },
    {
      "cell_type": "code",
      "execution_count": null,
      "metadata": {
        "execution": {
          "iopub.execute_input": "2022-12-21T06:31:04.223642Z",
          "iopub.status.busy": "2022-12-21T06:31:04.222570Z",
          "iopub.status.idle": "2022-12-21T06:31:04.890917Z",
          "shell.execute_reply": "2022-12-21T06:31:04.889717Z",
          "shell.execute_reply.started": "2022-12-21T06:31:04.223596Z"
        },
        "id": "enl3c0hbj-DD",
        "outputId": "f2f50fad-a500-49d5-af89-c0073778227c"
      },
      "outputs": [
        {
          "name": "stdout",
          "output_type": "stream",
          "text": [
            "RMSE : 0.13457555919416928\n",
            "RMSE : 0.1390969106692785\n",
            "RMSE : 0.13700447245624195\n"
          ]
        }
      ],
      "source": [
        "trees = [10,50,100]\n",
        "for n in trees:\n",
        "    \n",
        "    model = RandomForestRegressor(n_estimators=n)\n",
        "    \n",
        "    run_model(model,X_train,y_train,X_test,y_test)"
      ]
    },
    {
      "cell_type": "markdown",
      "metadata": {
        "id": "r3HWudAij-DE"
      },
      "source": [
        "#### Minimum RMSE error is 0.1370"
      ]
    },
    {
      "cell_type": "markdown",
      "metadata": {
        "id": "Nx23f6ofj-DE"
      },
      "source": [
        "# Gradient Boost Regressor"
      ]
    },
    {
      "cell_type": "code",
      "execution_count": null,
      "metadata": {
        "execution": {
          "iopub.execute_input": "2022-12-21T06:31:08.113058Z",
          "iopub.status.busy": "2022-12-21T06:31:08.112229Z",
          "iopub.status.idle": "2022-12-21T06:31:08.119196Z",
          "shell.execute_reply": "2022-12-21T06:31:08.117794Z",
          "shell.execute_reply.started": "2022-12-21T06:31:08.113000Z"
        },
        "id": "wgYq5YBSj-DG"
      },
      "outputs": [],
      "source": [
        "from sklearn.ensemble import GradientBoostingRegressor"
      ]
    },
    {
      "cell_type": "code",
      "execution_count": null,
      "metadata": {
        "execution": {
          "iopub.execute_input": "2022-12-21T06:31:08.332082Z",
          "iopub.status.busy": "2022-12-21T06:31:08.331693Z",
          "iopub.status.idle": "2022-12-21T06:31:08.462839Z",
          "shell.execute_reply": "2022-12-21T06:31:08.461541Z",
          "shell.execute_reply.started": "2022-12-21T06:31:08.332050Z"
        },
        "id": "oV64kPf4j-DG",
        "outputId": "9d444d1e-67c2-4c04-9e70-66d665d5f060"
      },
      "outputs": [
        {
          "name": "stdout",
          "output_type": "stream",
          "text": [
            "RMSE : 0.13601465608856553\n"
          ]
        }
      ],
      "source": [
        "model = GradientBoostingRegressor()\n",
        "\n",
        "run_model(model,X_train,y_train,X_test,y_test)"
      ]
    },
    {
      "cell_type": "markdown",
      "metadata": {
        "id": "M7jZr4_oj-DH"
      },
      "source": [
        "#### By far our most accurate model"
      ]
    },
    {
      "cell_type": "markdown",
      "metadata": {
        "id": "Z2LXVa4ij-DI"
      },
      "source": [
        "# Inference\n",
        "We tried various kind of regression methods, least RMSE we could get was 0.1360, mean actual productivity is 0.7365"
      ]
    },
    {
      "cell_type": "code",
      "execution_count": null,
      "metadata": {
        "execution": {
          "iopub.execute_input": "2022-12-21T06:31:12.152639Z",
          "iopub.status.busy": "2022-12-21T06:31:12.151631Z",
          "iopub.status.idle": "2022-12-21T06:31:12.159293Z",
          "shell.execute_reply": "2022-12-21T06:31:12.158127Z",
          "shell.execute_reply.started": "2022-12-21T06:31:12.152600Z"
        },
        "id": "2w4fZoO8j-DI",
        "outputId": "b99e7bf4-6663-4def-b30f-62fbb2ae215b"
      },
      "outputs": [
        {
          "data": {
            "text/plain": [
              "18.46571622539036"
            ]
          },
          "execution_count": 27,
          "metadata": {},
          "output_type": "execute_result"
        }
      ],
      "source": [
        "0.1360/0.7365*100"
      ]
    },
    {
      "cell_type": "markdown",
      "metadata": {
        "id": "oYQC1q1Lj-DI"
      },
      "source": [
        "Our error is about 18% off from the average, which is pretty inaccurate.\n",
        "\n",
        "Although our features correlate to the productivity of team in a broad sense (as seen from the heatmap) we still need more data, to train/test our model. For now data seems fairly random and we cannot predict from it accurately."
      ]
    }
  ],
  "metadata": {
    "kernelspec": {
      "display_name": "Python 3 (ipykernel)",
      "language": "python",
      "name": "python3"
    },
    "language_info": {
      "codemirror_mode": {
        "name": "ipython",
        "version": 3
      },
      "file_extension": ".py",
      "mimetype": "text/x-python",
      "name": "python",
      "nbconvert_exporter": "python",
      "pygments_lexer": "ipython3",
      "version": "3.7.15"
    },
    "colab": {
      "provenance": []
    }
  },
  "nbformat": 4,
  "nbformat_minor": 0
}